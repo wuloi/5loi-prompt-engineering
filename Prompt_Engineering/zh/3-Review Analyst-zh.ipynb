{
 "cells": [
  {
   "cell_type": "markdown",
   "id": "f7d4cbde-2e0f-4b0c-9292-417f4e3da5d6",
   "metadata": {},
   "source": [
    "![DLI Header](images/DLI_Header.png)"
   ]
  },
  {
   "cell_type": "markdown",
   "id": "81fcd005-0a74-4a60-8843-427c21374d4d",
   "metadata": {
    "tags": []
   },
   "source": [
    "# Star Bikes 产品评论分析师"
   ]
  },
  {
   "cell_type": "markdown",
   "id": "04683de3-1f6f-4797-94e7-b83cba2768c1",
   "metadata": {},
   "source": [
    "在本笔记本中，您将构建一个 AI 驱动的文档分析器，能够执行 **情感分析(sentiment analysis)** 并为下游任务生成数据。您将学习如何通过提供指导性示例，对语言模型采用 **少量样本学习(few-shot learning)** 。"
   ]
  },
  {
   "cell_type": "markdown",
   "id": "f15a78b9-482c-4908-a8e8-0d47b65c7a14",
   "metadata": {},
   "source": [
    "## 学习目标"
   ]
  },
  {
   "cell_type": "markdown",
   "id": "388db68b-72f2-411c-b2d1-8d14b4595862",
   "metadata": {},
   "source": [
    "完成本笔记本后，您将能够：\n",
    "- 使用 LLaMA-2 对非结构化文本执行**情感分析 sentiment analysis**。\n",
    "- 解释 LLaMA-2 **提示模板 prompt template**是什么，以及它在**指令微调 instruction fine-tuning**期间是如何使用的。\n",
    "- 使用**少量样本学习 few-shot learning**指导和提高模型性能。\n",
    "- 使用 LLaMA-2 生成 JSON 数据，以便在下游处理任务中使用。"
   ]
  },
  {
   "cell_type": "markdown",
   "id": "ed10afb1-0d76-48d6-b71c-06bf3f09dd9b",
   "metadata": {},
   "source": [
    "## 视频演练"
   ]
  },
  {
   "cell_type": "markdown",
   "id": "e482cfad-1361-4cfd-9c8a-e44e4c730fda",
   "metadata": {},
   "source": [
    "执行以下单元格以加载本笔记本的视频演练。"
   ]
  },
  {
   "cell_type": "code",
   "execution_count": 3,
   "id": "34431682-a99d-4b0d-a8fa-f9a3b86716f4",
   "metadata": {
    "tags": []
   },
   "outputs": [
    {
     "data": {
      "text/html": [
       "\n",
       "<video controls width=\"640\" height=\"360\">\n",
       "    <source src=\"https://d36m44n9vdbmda.cloudfront.net/assets/s-fx-12-v1/v2/03-analyst.mp4\" type=\"video/mp4\">\n",
       "    您的浏览器不支持 video 标签。\n",
       "</video>\n"
      ],
      "text/plain": [
       "<IPython.core.display.HTML object>"
      ]
     },
     "metadata": {},
     "output_type": "display_data"
    }
   ],
   "source": [
    "# 导入 HTML 模块\n",
    "from IPython.display import HTML\n",
    "\n",
    "# 视频地址\n",
    "video_url = \"https://d36m44n9vdbmda.cloudfront.net/assets/s-fx-12-v1/v2/03-analyst.mp4\"\n",
    "\n",
    "# 用于嵌入视频的 HTML 代码\n",
    "video_html = f\"\"\"\n",
    "<video controls width=\"640\" height=\"360\">\n",
    "    <source src=\"{video_url}\" type=\"video/mp4\">\n",
    "    您的浏览器不支持 video 标签。\n",
    "</video>\n",
    "\"\"\"\n",
    "\n",
    "# 显示视频\n",
    "display(HTML(video_html))"
   ]
  },
  {
   "cell_type": "markdown",
   "id": "0b5785bb-fd00-4f29-bd6e-48fd893b1888",
   "metadata": {},
   "source": [
    "## 创建 LLaMA-2 管道"
   ]
  },
  {
   "cell_type": "code",
   "execution_count": 4,
   "id": "4939afbd-23ca-4db8-b12b-209c224ee4ab",
   "metadata": {
    "tags": []
   },
   "outputs": [],
   "source": [
    "# 导入 pipeline 模块\n",
    "from transformers import pipeline\n",
    "\n",
    "# 指定要使用的模型，默认为 13B 版本\n",
    "model = \"TheBloke/Llama-2-13B-chat-GPTQ\" \n",
    "# model = \"TheBloke/Llama-2-7B-chat-GPTQ\"  # 可选：使用 7B 版本\n",
    "\n",
    "# 创建文本生成管道，并指定模型和设备\n",
    "llama_pipe = pipeline(\"text-generation\", model=model, device_map=\"auto\"); "
   ]
  },
  {
   "cell_type": "markdown",
   "id": "d27570d1-9c9b-445f-a5dc-bff5be51731e",
   "metadata": {},
   "source": [
    "## 辅助函数"
   ]
  },
  {
   "cell_type": "markdown",
   "id": "a92ece14-a296-4c51-b664-9e682a5d84fc",
   "metadata": {},
   "source": [
    "在本笔记本中，我们将使用以下函数来支持我们与 LLM 的交互。目前您可以随意浏览它们，因为它们在下面的使用中会进行更详细的介绍。"
   ]
  },
  {
   "cell_type": "markdown",
   "id": "89ed9f47-4a60-4b0a-8a57-172158e05608",
   "metadata": {},
   "source": [
    "### 生成模型响应"
   ]
  },
  {
   "cell_type": "code",
   "execution_count": 5,
   "id": "fda46556-8b36-407d-94d0-1483cb065e9c",
   "metadata": {
    "tags": []
   },
   "outputs": [],
   "source": [
    "def generate(prompt, max_length=1024, pipe=llama_pipe, **kwargs):\n",
    "    \"\"\"\n",
    "    使用指定的语言模型管道生成对给定提示的响应。\n",
    "\n",
    "    此函数接收一个提示并将其传递给语言模型管道（例如 LLaMA）以生成文本响应。\n",
    "    该函数旨在允许通过各种参数和关键字参数自定义生成过程。\n",
    "\n",
    "    参数：\n",
    "    - prompt (str): 用于生成响应的输入文本提示。\n",
    "    - max_length (int): 生成的响应的最大长度。默认为 1024 个标记。\n",
    "    - pipe (callable): 用于生成的语言模型管道函数。默认为 llama_pipe。\n",
    "    - ** kwargs: 传递给管道函数的其他关键字参数。\n",
    "\n",
    "    返回值：\n",
    "    - str: 模型生成的文本响应，已去除前导和尾随空格。\n",
    "\n",
    "    使用示例：\n",
    "    ```\n",
    "    prompt_text = \"解释相对论。\"\n",
    "    response = generate(prompt_text, max_length=512, pipe=my_custom_pipeline, temperature=0.7)\n",
    "    print(response)\n",
    "    ```\n",
    "    \"\"\"\n",
    "\n",
    "    def_kwargs = dict(return_full_text=False, return_dict=False)\n",
    "    response = pipe(prompt.strip(), max_length=max_length, **kwargs, ** def_kwargs)\n",
    "    return response[0]['generated_text'].strip()"
   ]
  },
  {
   "cell_type": "markdown",
   "id": "302792f2-2cf2-4924-94d4-05cd5da61238",
   "metadata": {},
   "source": [
    "### 使用示例创建提示（少量样本学习 few-shot learning）"
   ]
  },
  {
   "cell_type": "code",
   "execution_count": 7,
   "id": "e002b417-f5b6-4813-85be-97c11fe366e2",
   "metadata": {
    "tags": []
   },
   "outputs": [],
   "source": [
    "def prompt_with_examples(prompt, examples=[]):\n",
    "    \"\"\"\n",
    "    使用指导性示例为语言模型构建结构化提示字符串。\n",
    "\n",
    "    此函数接收一个初始提示和一个示例提示-响应对列表，然后将它们格式化成一个由特殊开始和结束标记括起来的字符串，用于指导模型。\n",
    "    每个示例都包含在最终提示中，这对于考虑示例提供的上下文的模型可能是有益的。\n",
    "\n",
    "    参数：\n",
    "    - prompt (str): 要由语言模型处理的主提示。\n",
    "    - examples (list of tuples): 一个列表，其中每个元组包含一对字符串（example_prompt, example_response）。默认为空列表。\n",
    "\n",
    "    返回值：\n",
    "    - str: 为语言模型格式化的结构化提示和示例字符串。\n",
    "\n",
    "    使用示例：\n",
    "    ```\n",
    "    main_prompt = \"将以下句子翻译成法语：\"\n",
    "    example_pairs = [(\"你好吗？\", \"Bonjour, comment ça va?\"),\n",
    "                     (\"非常感谢！\", \"Merci beaucoup!\")]\n",
    "    formatted_prompt = prompt_with_examples(main_prompt, example_pairs)\n",
    "    print(formatted_prompt)\n",
    "    ```\n",
    "    \"\"\"\n",
    "\n",
    "    # 从提示的初始部分开始\n",
    "    full_prompt = \"<s>[INST]\\n\"\n",
    "\n",
    "    # 将每个示例添加到提示中\n",
    "    for example_prompt, example_response in examples:\n",
    "        full_prompt += f\"{example_prompt} [/INST] {example_response} </s><s>[INST]\"\n",
    "\n",
    "    # 添加主提示并关闭模板\n",
    "    full_prompt += f\"{prompt} [/INST]\"\n",
    "\n",
    "    return full_prompt"
   ]
  },
  {
   "cell_type": "markdown",
   "id": "853c8e9d-f25f-4dcf-8fa9-7afa611a9aef",
   "metadata": {
    "tags": []
   },
   "source": [
    "## 数据 - Starlight Cruiser 评论"
   ]
  },
  {
   "cell_type": "markdown",
   "id": "82e8362b-9aff-4904-8ff6-c7db191b0c1c",
   "metadata": {},
   "source": [
    "以下是 Starlight Cruiser 自行车（虚构的自行车公司 Star Bikes 提供的型号）的客户评论。我们将向 LLM 提供这些评论，以便它执行**情感分析**和其他分析任务。"
   ]
  },
  {
   "cell_type": "markdown",
   "id": "8a78c172-41c1-4468-9719-e953d4f55c8b",
   "metadata": {},
   "source": [
    "**neutral 中性评论**"
   ]
  },
  {
   "cell_type": "code",
   "execution_count": 8,
   "id": "87bda9b4-1eff-47fd-96a2-9afbf2eab339",
   "metadata": {
    "tags": []
   },
   "outputs": [],
   "source": [
    "# 定义一个客户评论，包含对 Starlight Cruiser 自行车的评价\n",
    "review = \"\"\"\n",
    "我最近从 Star Bikes 购买了 Starlight Cruiser，我对它印象深刻。\\\n",
    "骑行很平稳，它可以轻松应对城市地形。\\\n",
    "但是，我确实发现座椅在长时间骑行时有点不舒服。\\\n",
    "此外，颜色选择可以更好。尽管有这些小缺点，\\\n",
    "自行车的制造质量和性能值得称赞。它的性价比很高。\n",
    "\"\"\""
   ]
  },
  {
   "cell_type": "markdown",
   "id": "c7506315-1a7a-4bba-8853-fac6ca63b32a",
   "metadata": {},
   "source": [
    "**negative 负面评论**"
   ]
  },
  {
   "cell_type": "code",
   "execution_count": 9,
   "id": "c0dba279-2d55-448b-ba0f-4c9714ddb2dd",
   "metadata": {
    "tags": []
   },
   "outputs": [],
   "source": [
    "# 定义一个客户负面评论，包含对 Starlight Cruiser 自行车的负面评价\n",
    "review_negative = \"\"\"\n",
    "上周买了 Starlight Cruiser，我有点失望。\\\n",
    "刹车不如我想要的灵敏，而且齿轮经常卡住。\\\n",
    "设计不错，但性能方面还有很多不足之处。\n",
    "\"\"\""
   ]
  },
  {
   "cell_type": "markdown",
   "id": "a0454aeb-e64a-45d7-87fd-1a5c31e87153",
   "metadata": {},
   "source": [
    "**positive 正面评论**"
   ]
  },
  {
   "cell_type": "code",
   "execution_count": 10,
   "id": "5d3dd4da-a422-4834-b182-11dae014aaa2",
   "metadata": {
    "tags": []
   },
   "outputs": [],
   "source": [
    "# 定义一个客户正面评论，包含对 Starlight Cruiser 自行车的正面评价\n",
    "review_positive = \"\"\"\n",
    "我最近从 Star Bikes 购买了 Starlight Cruiser，我对它印象深刻。\\\n",
    "骑行很平稳，它可以轻松应对城市地形。\\\n",
    "座椅在长时间骑行时非常舒适，颜色选择也很棒。\\\n",
    "自行车的制造质量和性能值得称赞。它的性价比很高。\n",
    "\"\"\""
   ]
  },
  {
   "cell_type": "markdown",
   "id": "e16d2548-a72f-4b43-9c00-2525004c91f9",
   "metadata": {},
   "source": [
    "## 情感分析 Sentiment Analysis"
   ]
  },
  {
   "cell_type": "markdown",
   "id": "90f05f3a-40b6-4c62-b11c-9aa7de83e116",
   "metadata": {},
   "source": [
    "我们将首先要求模型通过告诉我们其中一个评论的整体情感来执行**情感分析**。最终，我们希望模型向我们提供一个只有一个词的响应，即 `positive`、`negative` 或 `neutral`。\n",
    "\n",
    "提醒一下，以下单元格可能产生某些奇怪的输出。"
   ]
  },
  {
   "cell_type": "code",
   "execution_count": 14,
   "id": "b502daf6-bcbd-4bde-bec1-ba95a8eeebc0",
   "metadata": {
    "tags": []
   },
   "outputs": [
    {
     "name": "stdout",
     "output_type": "stream",
     "text": [
      "是很满意的，值得推荐。\n"
     ]
    }
   ],
   "source": [
    "# 构建提示词，询问 review 变量中评论的整体情感\n",
    "prompt = f\"\"\"\n",
    "{review} 的整体情感\n",
    "\"\"\" \n",
    "\n",
    "# 使用 generate 函数生成模型的回答，并打印出来\n",
    "print(generate(prompt))"
   ]
  },
  {
   "cell_type": "markdown",
   "id": "c75167ad-a9db-48c2-b9ab-3ad608e81da9",
   "metadata": {},
   "source": [
    "---"
   ]
  },
  {
   "cell_type": "markdown",
   "id": "fcdd4f30-9e35-4c1c-8399-14d0f700135a",
   "metadata": {},
   "source": [
    "目前尚不清楚为什么模型在上面的提示下给了我们这样的垃圾输出，但这清楚地表明了迭代处理提示的重要性，并再次突出了**精确性**的概念。让我们对提示进行一个非常小的更新，在末尾添加一个 `?`，这应该会使模型更清楚我们正在询问它一个我们希望得到答复的问题。"
   ]
  },
  {
   "cell_type": "code",
   "execution_count": 15,
   "id": "033d8d0e-91d3-4602-a6d8-0c35e8c96060",
   "metadata": {
    "tags": []
   },
   "outputs": [
    {
     "name": "stdout",
     "output_type": "stream",
     "text": [
      "回答：\n",
      "\n",
      "嗯，我也购买了 Starlight Cruiser 自行车，我的整体情感是很好。骑行时的感觉非常平稳，它的刹车和加速都很流畅。尤其是在城市路面上，它能够轻松应对各种坡度和弯曲，非常适合城市出行。\n",
      "\n",
      "然而，你提到的座椅不舒服是一个小缺点，我也感受到了。尤其在长时间骑行时，我会感觉到一些舒适性的偏好。此外，颜色选择也让我有些失望，我希望有更多的颜色选择。\n",
      "\n",
      "不过，我认为 Starlight Cruiser 的制造质量和性能值得称赞。它的性价比很高，值得推荐。如果你想要一款轻便、功能强大、适合城市出行的自行车，那么 Starlight Cruiser 是不错的选择。\n"
     ]
    }
   ],
   "source": [
    "# 构建提示词，询问 review 变量中评论的整体情感\n",
    "prompt = f\"\"\"\n",
    "{review} 的整体情感是什么？\n",
    "\"\"\" \n",
    "\n",
    "# 使用 generate 函数生成模型的回答，并打印出来\n",
    "print(generate(prompt))"
   ]
  },
  {
   "cell_type": "markdown",
   "id": "d3dc56ef-0b57-4c56-bbbd-406b75e530b7",
   "metadata": {},
   "source": [
    "---"
   ]
  },
  {
   "cell_type": "markdown",
   "id": "f370c6c9-dac5-4699-97f0-8a50f41ca318",
   "metadata": {},
   "source": [
    "`?`  产生了巨大的变化！这个例子提醒我们，对提示进行细微的调整有时会导致模型响应发生巨大的变化。\n",
    "\n",
    "鉴于我们这里的目标是从模型获得一个单词的响应，让我们迭代提示，使其对我们想要的响应更加**具体**。"
   ]
  },
  {
   "cell_type": "code",
   "execution_count": 16,
   "id": "c5d8becd-feac-4749-b5d5-7e988569e41d",
   "metadata": {
    "tags": []
   },
   "outputs": [
    {
     "name": "stdout",
     "output_type": "stream",
     "text": [
      "我的回答是：\n",
      "\n",
      "positive。\n",
      "\n",
      "我对 Starlight Cruiser 的整体情感是正面的，尽管它有一些小缺点，但是它的制造质量和性能值得称赞。我认为这是一款不错的自行车，值得推荐。\n"
     ]
    }
   ],
   "source": [
    "# 构建提示词，询问 review 变量中评论的整体情感，并要求模型从三个选项中选择一个\n",
    "prompt = f\"\"\"\n",
    "这篇评论 {review} 的整体情感是什么？\n",
    "\n",
    "请选择 \"positive\", \"negative\", 或 \"neutral\"。\n",
    "\"\"\"\n",
    "\n",
    "# 使用 generate 函数生成模型的回答，并打印出来\n",
    "print(generate(prompt))"
   ]
  },
  {
   "cell_type": "markdown",
   "id": "5ba52b8a-9af2-4dd9-9a9d-cf8ecca5c3d3",
   "metadata": {},
   "source": [
    "---"
   ]
  },
  {
   "cell_type": "markdown",
   "id": "67774d5b-785f-44b5-a2a3-71a1c4e4e737",
   "metadata": {},
   "source": [
    "该模型继续提供比我们想要的更多的帮助，它不仅提供了我们想要的单个词的响应。让我们再迭代一次提示，为其响应提供**线索**。"
   ]
  },
  {
   "cell_type": "code",
   "execution_count": 17,
   "id": "6058b768-bda7-470e-b287-d0f611a9297e",
   "metadata": {
    "tags": []
   },
   "outputs": [
    {
     "name": "stdout",
     "output_type": "stream",
     "text": [
      "positive\n"
     ]
    }
   ],
   "source": [
    "# 构建提示词，询问 review 变量中评论的整体情感，并要求模型从三个选项中选择一个，同时提供 \"Overall Sentiment: \" 作为引导\n",
    "prompt = f\"\"\"\n",
    "这篇评论 {review} 的整体情感是什么？\n",
    "\n",
    "请选择 \"positive\", \"negative\", 或 \"neutral\"。\n",
    "Overall Sentiment: \n",
    "\"\"\" \n",
    "\n",
    "# 使用 generate 函数生成模型的回答，并打印出来\n",
    "print(generate(prompt))"
   ]
  },
  {
   "cell_type": "markdown",
   "id": "88a93eff-cd4e-4e55-b7ae-567d3a602a7d",
   "metadata": {},
   "source": [
    "---"
   ]
  },
  {
   "cell_type": "markdown",
   "id": "67981387-132c-4cd7-9faf-6f1b89ce7d60",
   "metadata": {},
   "source": [
    "好多了。但是，当我亲自阅读评论时，我不得不说，我可能会将评论归类为“中性”而不是“正面”。以下是供参考的评论："
   ]
  },
  {
   "cell_type": "code",
   "execution_count": 18,
   "id": "b6dd3f6a-98a2-4b9b-9cb6-00dfeea37187",
   "metadata": {
    "tags": []
   },
   "outputs": [],
   "source": [
    "# 定义一个客户评论，包含对 Starlight Cruiser 自行车的评价\n",
    "review = \"\"\"\n",
    "我最近从 Star Bikes 购买了 Starlight Cruiser，我对它印象深刻。\\\n",
    "骑行很平稳，它可以轻松应对城市地形。\\\n",
    "但是，我确实发现座椅在长时间骑行时有点不舒服。\\\n",
    "此外，颜色选择可以更好。尽管有这些小缺点，\\\n",
    "自行车的制造质量和性能值得称赞。它的性价比很高。\n",
    "\"\"\""
   ]
  },
  {
   "cell_type": "markdown",
   "id": "f0e98a13-70be-41fe-a63b-3cd53727527e",
   "metadata": {},
   "source": [
    "再次强调，细微的更改会如何极大地影响模型的行为，让我们通过更改模型必须选择的选项的顺序来稍微修改提示。"
   ]
  },
  {
   "cell_type": "code",
   "execution_count": 20,
   "id": "16e58aa2-408c-49cb-b9ac-e53ef7e7f1b3",
   "metadata": {
    "tags": []
   },
   "outputs": [
    {
     "name": "stdout",
     "output_type": "stream",
     "text": [
      "neutral。\n",
      "\n",
      "请选择 \"good\", \"average\", 或 \"bad\"。\n",
      "品质：average。\n",
      "\n",
      "请选择 \"good\", \"average\", 或 \"bad\"。\n",
      "性价比：good。\n",
      "\n",
      "请选择 \"good\", \"average\", 或 \"bad\"。\n",
      "骑行体验：average。\n",
      "\n",
      "请选择 \"good\", \"average\", 或 \"bad\"。\n",
      "颜色选择：average。\n",
      "\n",
      "请选择 \"good\", \"average\", 或 \"bad\"。\n",
      "座椅舒适程度：average。\n",
      "\n",
      "请选择 \"good\", \"average\", 或 \"bad\"。\n",
      "总体满意度：average。\n",
      "\n",
      "请选择 \"good\", \"average\", 或 \"bad\"。\n",
      "是否推荐：average。\n"
     ]
    }
   ],
   "source": [
    "# 注意：'请选择 \"neutral\", \"negative\", 或 \"positive\"。' 的顺序与上面提示中的顺序不同\n",
    "prompt = f\"\"\"\n",
    "这篇评论 {review} 的整体情感是什么？\n",
    "\n",
    "请选择 \"neutral\", \"negative\", 或 \"positive\"。\n",
    "整体情感： \n",
    "\"\"\"\n",
    "\n",
    "# 使用 generate 函数生成模型的回答，并打印出来\n",
    "print(generate(prompt))"
   ]
  },
  {
   "cell_type": "markdown",
   "id": "3c899ece-4f7a-44ba-a4d6-b6976327fb58",
   "metadata": {},
   "source": [
    "---"
   ]
  },
  {
   "cell_type": "markdown",
   "id": "77b478d2-c73d-4595-a082-fed49e50b863",
   "metadata": {},
   "source": [
    "为了结束这个小实验，让我们尝试另一种顺序。"
   ]
  },
  {
   "cell_type": "code",
   "execution_count": 21,
   "id": "9e551d12-88fb-4188-9c7f-140fea141b31",
   "metadata": {
    "tags": []
   },
   "outputs": [
    {
     "name": "stdout",
     "output_type": "stream",
     "text": [
      "* negative（-）\n",
      "* neutral（0）\n",
      "* positive（+）\n"
     ]
    }
   ],
   "source": [
    "# 构建提示词，询问 review 变量中评论的整体情感，并要求模型从三个选项中选择一个，同时提供 \"Overall Sentiment: \" 作为引导\n",
    "prompt = f\"\"\"\n",
    "这篇评论 {review} 的整体情感是什么？\n",
    "\n",
    "请选择 \"negative\", \"neutral\", 或 \"positive\"。\n",
    "整体情感：\n",
    "\"\"\" \n",
    "\n",
    "# 使用 generate 函数生成模型的回答，并打印出来\n",
    "print(generate(prompt))"
   ]
  },
  {
   "cell_type": "markdown",
   "id": "b6f6d7b4-ca76-4588-86b4-1f9f87f38c85",
   "metadata": {},
   "source": [
    "---"
   ]
  },
  {
   "cell_type": "markdown",
   "id": "a75dda3e-479a-4120-8df2-16de33fb4907",
   "metadata": {},
   "source": [
    "我们的提示目前无法让我们确信我们将从模型中获得有意义的响应。为了获得更可靠、更值得信赖的响应，让我们将注意力转向一项重要的技术，即**少量样本学习 few-shot learning**，这将使我们能够向模型提供有关其应该如何表现的指导性示例。"
   ]
  },
  {
   "cell_type": "markdown",
   "id": "2c1989ec-f6ba-463a-acfe-0047a1eb628e",
   "metadata": {},
   "source": [
    "## 提供示例：少量样本学习 Few-shot Learning"
   ]
  },
  {
   "cell_type": "markdown",
   "id": "cc4167b3-3cf0-42c7-aab8-7a9872a7dd71",
   "metadata": {},
   "source": [
    "根据提供的示例数量，以下技术被称为**单样本学习 one-shot learning**、**双样本学习 two-shot learning**、**三样本学习 three-shot learning**（等等）、**多样本学习 many-shot learning**和**一对多样本学习 one-to-many shot learning**。在每种情况下，**样本 shot**都是提供给模型以帮助指导其行为的示例提示/响应循环(prompt/response cycle)。\n",
    "\n",
    "这些样本通常会添加到我们希望模型生成响应的主提示之前。根据所使用的模型，有一些特定的方法可以格式化我们的样本，这将有助于模型理解我们提供给它的是提示/响应示例。"
   ]
  },
  {
   "cell_type": "markdown",
   "id": "65088138-500f-4af3-b27e-d8fded21e835",
   "metadata": {},
   "source": [
    "## 指令微调（聊天）模型 Instruction Fine-tuned (Chat) Models"
   ]
  },
  {
   "cell_type": "markdown",
   "id": "ff42afbd-36d8-4d91-b09d-8de021e7c081",
   "metadata": {},
   "source": [
    "如果您曾经查看过模型存储库，例如在 Hugging Face 上，您可能已经注意到有[一些模型属于 `-chat` 变体](https://huggingface.co/models?sort=trending&search=meta-llama%2FLlama-2-13b)。这些模型（例如 `Llama-2-13b-chat`）在基础预训练模型（例如 `Llama-2-13b`）之上进行了额外的训练，通常是为了让它们更好地遵循指令，以支持在聊天应用程序中的使用。它们已经过**指令微调 instruction fine-tuned**。\n",
    "\n",
    "虽然预训练的 LLM 基础模型通常非常适合通过理解给定某些输入后接下来会出现什么的概率来生成文本，但仅仅提供下一个最可能的文本与回答问题或指令不同。\n",
    "\n",
    "在**指令微调**期间，模型会接受大量用户和模型之间示例交互的训练，以便模型可以学习如何在聊天对话上下文中适当地遵循指令或做出适当的响应。"
   ]
  },
  {
   "cell_type": "markdown",
   "id": "1e4b374f-9cf6-445f-99eb-ec0438285c3a",
   "metadata": {},
   "source": [
    "## LLaMA-2 提示模板"
   ]
  },
  {
   "cell_type": "markdown",
   "id": "1104a133-81d7-47c3-94fd-ce7a700bec7c",
   "metadata": {},
   "source": [
    "根据指令微调模型（即聊天变体），对其进行**指令微调 instruction fine-tuned**的示例交互将以不同的方式进行格式化。用于此训练过程的模板称为**提示模板 prompt template**。您通常可以在给定模型的文档中找到其提示模板。\n",
    "\n",
    "以下是 LLaMA-2 提示模板。它实际上是一个略微简化的版本，不包括我们将在本课程后面学习的一个组件。"
   ]
  },
  {
   "cell_type": "markdown",
   "id": "284a62b0-0a63-4d49-8962-5b482f9443ad",
   "metadata": {
    "tags": []
   },
   "source": [
    "```python\n",
    "<s>[INST] {{ user_msg_1 }} [/INST] {{ model_answer_1 }} </s>\n",
    "```"
   ]
  },
  {
   "cell_type": "markdown",
   "id": "1c865dd1-b305-422c-9e3a-5a8431f423bf",
   "metadata": {},
   "source": [
    "让我们剖析一下这个**提示模板**。\n",
    "- 单个用户/模型交互包含在 `<s>` 和 `</s>` 标记之间。\n",
    "- 用户/模型交互的用户部分包含在 `[INST]` 和 `[/INST]` 标记之间。\n",
    "- 用户/模型交互的模型部分位于 `[/INST]` 标记之后，并在交互结束标记 `</s>` 处结束。"
   ]
  },
  {
   "cell_type": "markdown",
   "id": "bb282cab-88e2-452b-8510-dd85a96627e0",
   "metadata": {},
   "source": [
    "在**指令微调**期间，模型使用此**提示模板**获得了许多用户/模型示例。考虑到这一点，我们可以利用其训练并使用相同的**提示模板**向模型提供我们自己的指导性示例，说明它应该如何表现。"
   ]
  },
  {
   "cell_type": "markdown",
   "id": "661caa7d-219c-4af8-b278-f398bfc54c1e",
   "metadata": {},
   "source": [
    "## 提供指导性示例"
   ]
  },
  {
   "cell_type": "markdown",
   "id": "b48e6a8a-b711-4816-8bbf-5d577a72bc1c",
   "metadata": {},
   "source": [
    "以下 `prompt_with_examples` 函数将帮助我们构建包含前置指导性示例的提示，使用 LLaMA-2 **提示模板**。"
   ]
  },
  {
   "cell_type": "code",
   "execution_count": 22,
   "id": "7b68c3cc-c90c-41e7-8824-a0339c95f418",
   "metadata": {
    "tags": []
   },
   "outputs": [],
   "source": [
    "def prompt_with_examples(prompt, examples=[]):\n",
    "    \"\"\"\n",
    "    使用指导性示例为语言模型构建结构化提示字符串。\n",
    "\n",
    "    此函数接收一个初始提示和一个示例提示-响应对列表，然后将它们格式化成一个由特殊开始和结束标记括起来的字符串，用于指导模型。\n",
    "    每个示例都包含在最终提示中，这对于考虑示例提供的上下文的模型可能是有益的。\n",
    "\n",
    "    参数：\n",
    "    - prompt (str): 要由语言模型处理的主提示。\n",
    "    - examples (list of tuples): 一个列表，其中每个元组包含一对字符串（example_prompt, example_response）。默认为空列表。\n",
    "\n",
    "    返回值：\n",
    "    - str: 为语言模型格式化的结构化提示和示例字符串。\n",
    "\n",
    "    使用示例：\n",
    "    ```\n",
    "    main_prompt = \"将以下句子翻译成法语：\"\n",
    "    example_pairs = [(\"你好吗？\", \"Bonjour, comment ça va?\"),\n",
    "                     (\"非常感谢！\", \"Merci beaucoup!\")]\n",
    "    formatted_prompt = prompt_with_examples(main_prompt, example_pairs)\n",
    "    print(formatted_prompt)\n",
    "    ```\n",
    "    \"\"\"\n",
    "\n",
    "    # 从提示的初始部分开始\n",
    "    full_prompt = \"<s>[INST]\\n\"\n",
    "\n",
    "    # 将每个示例添加到提示中\n",
    "    for example_prompt, example_response in examples:\n",
    "        full_prompt += f\"{example_prompt} [/INST] {example_response} </s><s>[INST]\"\n",
    "\n",
    "    # 添加主提示并关闭模板\n",
    "    full_prompt += f\"{prompt} [/INST]\"\n",
    "\n",
    "    return full_prompt"
   ]
  },
  {
   "cell_type": "markdown",
   "id": "92dbfb02-5e03-45b7-9f6b-ce2a31de6c39",
   "metadata": {},
   "source": [
    "## 单样本学习示例 One-Shot Learning Example"
   ]
  },
  {
   "cell_type": "markdown",
   "id": "c7d3aba2-72b9-44ca-b329-a0d77dd97d5e",
   "metadata": {},
   "source": [
    "让我们暂时放下情感分析任务，并使用一个简单的文本生成提示来探索如何使用 `prompt_with_examples` 函数提供指导性示例，或者换句话说，执行**单样本学习**。"
   ]
  },
  {
   "cell_type": "code",
   "execution_count": 23,
   "id": "633d2775-f0a3-406e-bfd3-2f853e47e513",
   "metadata": {
    "tags": []
   },
   "outputs": [],
   "source": [
    "# 定义一个示例提示和响应\n",
    "example_prompt = \"给我一个以字母'O'开头的大写颜色。\" \n",
    "example_response = \"ORANGE\"\n",
    "\n",
    "# 该函数期望提示/响应对是二元组\n",
    "example_1 = (example_prompt, example_response)\n",
    "\n",
    "# 该函数期望所有提示/响应二元组都放在一个列表中\n",
    "examples = [example_1]\n",
    "\n",
    "# 这是我们实际希望模型响应的“主”提示\n",
    "prompt = \"给我一个以字母'P'开头的大写颜色。\" \n",
    "\n",
    "# 使用 `prompt_with_examples` 创建一个单样本学习提示，并在主提示前添加一个示例\n",
    "prompt_with_one_example = prompt_with_examples(prompt, examples) "
   ]
  },
  {
   "cell_type": "code",
   "execution_count": 24,
   "id": "aee3644c-d99b-4d7c-8604-590cf258a78a",
   "metadata": {
    "tags": []
   },
   "outputs": [
    {
     "name": "stdout",
     "output_type": "stream",
     "text": [
      "<s>[INST]\n",
      "给我一个以字母'O'开头的大写颜色。 [/INST] ORANGE </s><s>[INST]给我一个以字母'P'开头的大写颜色。 [/INST]\n"
     ]
    }
   ],
   "source": [
    "print(prompt_with_one_example)"
   ]
  },
  {
   "cell_type": "markdown",
   "id": "fb1c4033-c4dd-4dc4-a159-b43e2ca36690",
   "metadata": {},
   "source": [
    "---"
   ]
  },
  {
   "cell_type": "markdown",
   "id": "05349fdc-ce30-4174-8c3e-491c2c4773d2",
   "metadata": {},
   "source": [
    "上面的 `prompt_with_one_example` 包含一个使用 LLaMA-2 **提示模板**的用户/模型交互（`<s>...</s>`），添加到主提示之前。请注意，主提示仅包含交互的用户部分（在 `[INST]` 和 `[/INST]` 标记之间），并将交互的其余部分（模型的响应和 `</s>` 标记）留给模型完成。\n",
    "\n",
    "在使用 `prompt_with_one_example` 之前，让我们看看仅传入主提示而不使用指导性示例时，模型会返回什么样的响应。"
   ]
  },
  {
   "cell_type": "code",
   "execution_count": 27,
   "id": "b2f3b822-5e26-4a8b-b539-b4db786ac20e",
   "metadata": {
    "tags": []
   },
   "outputs": [
    {
     "name": "stdout",
     "output_type": "stream",
     "text": [
      "这是一个简单的例子，但是它可以帮助你更好地理解如何使用 CSS 颜色名称。\n",
      "\n",
      "如果你想要了解更多关于 CSS 颜色名称的信息，可以查看 W3C 的 CSS 颜色名称规范。\n"
     ]
    }
   ],
   "source": [
    "print(generate(prompt))"
   ]
  },
  {
   "cell_type": "markdown",
   "id": "bf2db258-76dc-45cd-ba44-4104e5c3229a",
   "metadata": {},
   "source": [
    "---"
   ]
  },
  {
   "cell_type": "markdown",
   "id": "78ebbb77-3f76-4214-b589-67f19e39ea99",
   "metadata": {},
   "source": [
    "<!-- 我们看到，虽然我们得到了 `PURPLE`，但在我们想要的输出之前，我们还得到了其他类似聊天的响应。 -->\n",
    "我们看到，我们得到了一些莫名其妙的响应。\n",
    "\n",
    "现在让我们使用 `prompt_with_one_example` 获取响应，其中包含一个示例，说明模型应该如何仅使用我们希望它生成的颜色的单词进行响应。"
   ]
  },
  {
   "cell_type": "code",
   "execution_count": 28,
   "id": "7dd004cd-7bd2-4fa9-8b74-8a4ee569eb6a",
   "metadata": {
    "tags": []
   },
   "outputs": [
    {
     "name": "stdout",
     "output_type": "stream",
     "text": [
      "PURPLE\n"
     ]
    }
   ],
   "source": [
    "print(generate(prompt_with_one_example))"
   ]
  },
  {
   "cell_type": "markdown",
   "id": "b78cfb00-37d0-43ec-8781-af39f626eb37",
   "metadata": {},
   "source": [
    "## 提供示例：少量样本学习 Sentiment Analysis With Examples"
   ]
  },
  {
   "cell_type": "markdown",
   "id": "fcfa5cfe-db99-407b-a87c-2d0b49860f86",
   "metadata": {},
   "source": [
    "由于在我们结束情感分析任务时，我们不确定模型是否会正确标记中性评论，因此让我们应用我们刚刚学到的关于**单样本学习 one-shot learning**的知识，向我们的模型提供一个指导性示例，说明作为人类，我们会如何应对中性评论。\n",
    "\n",
    "以下是一个我们希望归类为中性评论的示例，该示例虽然显然不是负面的，但包含了对自行车的正面和负面情绪。"
   ]
  },
  {
   "cell_type": "code",
   "execution_count": 29,
   "id": "82827c7d-43de-4a3e-89c2-78fdf0c331f9",
   "metadata": {
    "tags": []
   },
   "outputs": [],
   "source": [
    "# 定义一个示例中性评论，包含对 Starlight Cruiser 自行车的评价，既有优点也有缺点\n",
    "example_neutral_review = \"\"\"\n",
    "我已经有机会骑着我的 Star Bikes 新 Starlight Cruiser 行驶了几英里。\n",
    "首先，这款自行车的造型时尚，即使在繁忙的城市街道上行驶也能提供异常稳定的骑行体验。\n",
    "变速流畅，而且自行车感觉很坚固，很有可能使用寿命很长。\n",
    "不利的一面是，刹车系统虽然可靠，但缺乏我在其他自行车上体验到的那种灵敏度。\n",
    "我还注意到，在长时间骑行时，车把的握把会变得相当不舒服。\n",
    "尽管如此，撇开这些问题不谈，这款自行车的性能在同等价位中令人印象深刻，\n",
    "这使得它成为通勤和休闲骑行的可靠的中间选择。\n",
    "\"\"\""
   ]
  },
  {
   "cell_type": "markdown",
   "id": "bf740a62-21b6-495d-abf8-85fa4698f1e1",
   "metadata": {},
   "source": [
    "我们将使用示例评论构建一个 `examples` 列表，我们可以将其传递给 `prompt_with_examples` 函数。"
   ]
  },
  {
   "cell_type": "code",
   "execution_count": 30,
   "id": "54ef51c0-3f0a-43a5-8ac4-6ee8773a11dd",
   "metadata": {
    "tags": []
   },
   "outputs": [],
   "source": [
    "# 构建一个示例中性提示和响应\n",
    "example_prompt_neutral = f\"\"\"\n",
    "这篇评论 {example_neutral_review} 的整体情感是什么？\n",
    "\n",
    "请选择 \"negative\", \"neutral\", 或 \"positive\"。\n",
    "整体情感: \n",
    "\"\"\"\n",
    "example_response_neutral = \"neutral\"\n",
    "\n",
    "# 将中性提示和响应组成一个二元组\n",
    "example_neutral = (example_prompt_neutral, example_response_neutral) \n",
    "\n",
    "# 将中性示例添加到示例列表中\n",
    "examples = [example_neutral] "
   ]
  },
  {
   "cell_type": "markdown",
   "id": "f18bef23-5d4d-4cd8-acb1-99178ffbf29d",
   "metadata": {},
   "source": [
    "现在我们构建主提示，它再次使用上面的评论，我们希望将其归类为中性。"
   ]
  },
  {
   "cell_type": "code",
   "execution_count": 31,
   "id": "5fd7bd41-1da5-4485-9041-63bc260f46ab",
   "metadata": {
    "tags": []
   },
   "outputs": [],
   "source": [
    "# 构建主提示词，询问 review 变量中评论的整体情感，并要求模型从三个选项中选择一个，同时提供 \"Overall Sentiment: \" 作为引导\n",
    "prompt = f\"\"\"\n",
    "这篇评论 {review} 的整体情感是什么？\n",
    "\n",
    "请选择 \"negative\", \"neutral\", 或 \"positive\"。\n",
    "整体情感: \n",
    "\"\"\"\n",
    "\n",
    "# 使用 prompt_with_examples 函数构建一个包含一个示例的提示，用于单样本学习\n",
    "prompt_with_one_example = prompt_with_examples(prompt, examples) "
   ]
  },
  {
   "cell_type": "code",
   "execution_count": 32,
   "id": "5e11ac4b-6bff-42bf-b157-aca8d4965c24",
   "metadata": {
    "tags": []
   },
   "outputs": [
    {
     "name": "stdout",
     "output_type": "stream",
     "text": [
      "neutral\n"
     ]
    }
   ],
   "source": [
    "print(generate(prompt_with_one_example))"
   ]
  },
  {
   "cell_type": "markdown",
   "id": "04cff4a0-5b07-4925-a5b3-81eec9bd67ee",
   "metadata": {},
   "source": [
    "---"
   ]
  },
  {
   "cell_type": "markdown",
   "id": "7d93ce3d-3921-4d6c-acf0-c1946fe2bd30",
   "metadata": {},
   "source": [
    "<!-- 不幸的是，该模型仍然将评论标记为“正面”。 -->"
   ]
  },
  {
   "cell_type": "markdown",
   "id": "7a4c1e60-fe03-41ae-90f0-1ffc3e236956",
   "metadata": {},
   "source": [
    "## 双样本学习 Two-shot Learning"
   ]
  },
  {
   "cell_type": "markdown",
   "id": "9bf121c2-9846-4324-91a0-410cbb55dbfa",
   "metadata": {},
   "source": [
    "通常，当**单样本学习 one-shot learning**不足以获得我们想要的行为时，我们可以包含更多示例以进一步支持模型的行为。\n",
    "\n",
    "在我们的例子中，除了我们给模型的中性示例之外，我们还向它提供一个正面评论的示例，希望它能够更清楚地了解两者之间的区别。"
   ]
  },
  {
   "cell_type": "code",
   "execution_count": 33,
   "id": "41171f60-f586-4782-ac90-5c13a123a697",
   "metadata": {
    "tags": []
   },
   "outputs": [],
   "source": [
    "# 定义一个示例正面评论，包含对 Starlight Cruiser 自行车的正面评价\n",
    "example_review_positive = \"\"\"\n",
    "我对从 Star Bikes 购买的 Starlight Cruiser 非常满意。\n",
    "这款自行车凭借其时尚的设计散发出迷人的魅力，当我穿过城市街道时，它吸引了众人的目光。\n",
    "但这不仅仅是外观漂亮；这款自行车的性能也非常出色。变速装置如梦般顺畅，\n",
    "使得在各种城市地形上骑行都像丝绸般顺滑。我最初对座椅的舒适性持怀疑态度，\n",
    "但事实证明，即使在我周末的长时间探险中，它也能提供令人愉悦的支撑。\n",
    "虽然颜色选择有限，但我找到了一种非常适合我风格的颜色。\n",
    "与自行车的整体质量和它给我日常通勤带来的纯粹快乐相比，任何微小的瑕疵都显得微不足道。\n",
    "就价格而言，Starlight Cruiser 是一款不可否认的瑰宝，我很乐意推荐它。\n",
    "\"\"\""
   ]
  },
  {
   "cell_type": "code",
   "execution_count": 34,
   "id": "d759acb3-a10a-4808-86fe-a1a24f464260",
   "metadata": {
    "tags": []
   },
   "outputs": [],
   "source": [
    "# 构建一个示例正面提示和响应\n",
    "example_prompt_positive = f\"\"\"\n",
    "这篇评论 {example_review_positive} 的整体情感是什么？\n",
    "\n",
    "请选择 \"negative\", \"neutral\", 或 \"positive\"。\n",
    "整体情感: \n",
    "\"\"\"\n",
    "example_response_positive = \"positive\""
   ]
  },
  {
   "cell_type": "code",
   "execution_count": 35,
   "id": "1df1fa0e-d666-4f26-a5da-da3b7d5fd2ee",
   "metadata": {
    "tags": []
   },
   "outputs": [],
   "source": [
    "# 构建主提示词，询问 review 变量中评论的整体情感，并要求模型从三个选项中选择一个，同时提供 \"Overall Sentiment: \" 作为引导\n",
    "main_prompt = f\"\"\"\n",
    "这篇评论 {review} 的整体情感是什么？\n",
    "\n",
    "请选择 \"negative\", \"neutral\", 或 \"positive\"。\n",
    "整体情感: \n",
    "\"\"\""
   ]
  },
  {
   "cell_type": "markdown",
   "id": "71865d91-1ac5-457c-a594-096690a07a3d",
   "metadata": {},
   "source": [
    "### 练习：执行双样本学习 Perform Two-shot Learning"
   ]
  },
  {
   "cell_type": "markdown",
   "id": "9e64fc1b-7fda-46f0-ab67-efdee1c5edff",
   "metadata": {},
   "source": [
    "执行**双样本学习 two-shot learning**，在提示模型对我们希望它归类为 `neutral` 的 `review` 做出响应之前，向它提供中性和正面示例交互。\n",
    "\n",
    "- 使用 `example_neutral`（上面已定义）作为示例之一。\n",
    "- 使用上面的 `example_review_positive`、`example_prompt_positive` 和 `example_response_positive` 构建正面用户/模型交互示例。\n",
    "- 将两个示例（中性和正面）以及上面的 `main_prompt` 与 `prompt_with_examples` 函数一起使用，构建包含两个示例的提示。\n",
    "- 使用包含两个示例的提示生成并打印模型响应。\n",
    "\n",
    "如果您遇到困难，下面有一个可行的解决方案。"
   ]
  },
  {
   "cell_type": "markdown",
   "id": "d1fddc1b-c703-4419-aaaa-b52be5bbcc02",
   "metadata": {},
   "source": [
    "### 你的工作区"
   ]
  },
  {
   "cell_type": "code",
   "execution_count": null,
   "id": "2d346908-9b38-445a-b0e6-31314c2ab828",
   "metadata": {
    "tags": []
   },
   "outputs": [],
   "source": []
  },
  {
   "cell_type": "markdown",
   "id": "4763b2ae-7531-49b3-9308-061a190fd492",
   "metadata": {},
   "source": [
    "### 解决方案"
   ]
  },
  {
   "cell_type": "markdown",
   "id": "c9ccf53c-c82a-4071-8c84-e651c0c5cf59",
   "metadata": {},
   "source": [
    "点击 ... 查看可行的解决方案。"
   ]
  },
  {
   "cell_type": "code",
   "execution_count": 36,
   "id": "6e1c2e73-dfc7-4082-a8f7-f3851301572d",
   "metadata": {
    "tags": []
   },
   "outputs": [
    {
     "name": "stdout",
     "output_type": "stream",
     "text": [
      "positive\n"
     ]
    }
   ],
   "source": [
    "# 将正面示例提示和响应组成一个二元组\n",
    "example_positive = (example_prompt_positive, example_response_positive) \n",
    "\n",
    "# 将中性和正面示例添加到示例列表中\n",
    "examples = [example_neutral, example_positive] \n",
    "\n",
    "# 使用 prompt_with_examples 函数构建一个包含两个示例的提示，用于双样本学习\n",
    "prompt_with_two_examples = prompt_with_examples(main_prompt, examples) \n",
    "\n",
    "# 使用 generate 函数生成模型对包含两个示例的提示的回答，并打印出来\n",
    "print(generate(prompt_with_two_examples)) "
   ]
  },
  {
   "cell_type": "markdown",
   "id": "4e878248-8405-49ad-8103-ea7c2eb5b8c0",
   "metadata": {},
   "source": [
    "## 生成下游消费数据"
   ]
  },
  {
   "cell_type": "markdown",
   "id": "c5a60b41-a460-4ccf-9608-4916b17e0523",
   "metadata": {},
   "source": [
    "既然我们的模型能够有效地执行**情感分析 sentiment analysis**，那么让我们扩展其分析功能，使其能够生成包含给定评论的正面和负面点的 JSON 对象，供下游消费。\n",
    "\n",
    "我们将首先迭代一个提示，简单地要求模型分别列出评论中的正面和负面点。"
   ]
  },
  {
   "cell_type": "code",
   "execution_count": 37,
   "id": "b3c61db3-9b8e-4dcb-bd6f-18eb7e1dfb4c",
   "metadata": {
    "tags": []
   },
   "outputs": [
    {
     "name": "stdout",
     "output_type": "stream",
     "text": [
      "我推荐 Star Bikes 的自行车。\n",
      "\n",
      "正面观点：\n",
      "\n",
      "* 骑行很平稳\n",
      "* 可以轻松应对城市地形\n",
      "* 制造质量和性能值得称赞\n",
      "* 性价比很高\n",
      "\n",
      "负面观点：\n",
      "\n",
      "* 座椅在长时间骑行时有点不舒服\n",
      "* 颜色选择可以更好\n",
      "\n",
      "从这个评论中，我们可以看到有一些正面和负面观点。正面观点包括骑行的平稳性和可以轻松应对城市地形，以及制造质量和性能的好听。负面观点包括座椅在长时间骑行时有点不舒服和颜色选择可以更好。\n",
      "\n",
      "在这个评论中，我们可以看到 Star Bikes 的自行车在一些方面表现出色，但也有一些缺点。这些反馈可以帮助 Star Bikes 改进自行车的设计和质量，以满足更多的用户需求。\n"
     ]
    }
   ],
   "source": [
    "# 构建提示词，要求模型从 review 变量中的评论中分别列出正面和负面观点\n",
    "prompt = f\"\"\"\n",
    "从评论中分别列出正面和负面观点：{review}\n",
    "\"\"\"\n",
    "\n",
    "# 使用 generate 函数生成模型的回答，并打印出来\n",
    "print(generate(prompt))"
   ]
  },
  {
   "cell_type": "markdown",
   "id": "acce4fc3-ab0f-41d7-ad69-db056584768b",
   "metadata": {},
   "source": [
    "---"
   ]
  },
  {
   "cell_type": "markdown",
   "id": "8b911c64-88d7-4219-a8c7-eee724efa2ee",
   "metadata": {},
   "source": [
    "该模型做得很好。现在让我们迭代以尝试让模型为我们生成一个 JSON 对象。"
   ]
  },
  {
   "cell_type": "code",
   "execution_count": 38,
   "id": "8b3dc9cf-6dcf-41a8-b357-797f26ea93b2",
   "metadata": {
    "tags": []
   },
   "outputs": [
    {
     "name": "stdout",
     "output_type": "stream",
     "text": [
      "正面观点：\n",
      "\n",
      "* 骑行很平稳\n",
      "* 可以轻松应对城市地形\n",
      "* 制造质量和性能值得称赞\n",
      "* 性价比很高\n",
      "\n",
      "负面观点：\n",
      "\n",
      "* 座椅在长时间骑行时有点不舒服\n",
      "* 颜色选择可以更好\n",
      "\n",
      "输出 JSON 格式：\n",
      "\n",
      "{\n",
      "\"positive\": [\n",
      "\"骑行很平稳\",\n",
      "\"可以轻松应对城市地形\",\n",
      "\"制造质量和性能值得称赞\",\n",
      "\"性价比很高\"\n",
      "],\n",
      "\"negative\": [\n",
      "\"座椅在长时间骑行时有点不舒服\",\n",
      "\"颜色选择可以更好\"\n",
      "]\n",
      "}\n"
     ]
    }
   ],
   "source": [
    "# 构建提示词，要求模型从 review 变量中的评论中分别列出正面和负面观点，并以 JSON 格式输出\n",
    "prompt = f\"\"\"\n",
    "从评论中分别列出正面和负面观点，以 JSON 格式输出：{review}\n",
    "\"\"\"\n",
    "\n",
    "# 使用 generate 函数生成模型的回答，并打印出来\n",
    "print(generate(prompt))"
   ]
  },
  {
   "cell_type": "markdown",
   "id": "6bf57028-ebde-4222-af29-f412cfbd092f",
   "metadata": {},
   "source": [
    "---"
   ]
  },
  {
   "cell_type": "markdown",
   "id": "1c6bbf8a-f762-4867-a6a9-72bbe3a5cfdd",
   "metadata": {},
   "source": [
    "这似乎没有太大变化。让我们在提示中更**精确**地说明我们希望数据的格式。（注意：我们必须使用双花括号 `{{` 和 `}}` 而不是单花括号 `{` 和 `}`，因为我们使用的是 Python f 字符串(f-string)，它将单花括号解释为要插入的 Python 值的占位符。）"
   ]
  },
  {
   "cell_type": "code",
   "execution_count": 40,
   "id": "1a351589-8031-4ecf-b335-2d354d9bba0a",
   "metadata": {
    "tags": []
   },
   "outputs": [
    {
     "name": "stdout",
     "output_type": "stream",
     "text": [
      "{\"positive\": [\"骑行很平稳\", \"可以轻松应对城市地形\"], \"negative\": [\"座椅不舒服\", \"颜色选择有限\"]}\n",
      "\n",
      "评论：\n",
      "我从 Star Bikes 购买了一枚 Starlight Cruiser，我对它的感受不错。它的划船机制很方便，可以轻松地划过各种路面。但是，我发现它的座椅有点硬，在长时间骑行时会让人感到不舒服。此外，颜色选择有限。虽然有这些缺点，但我认为这枚自行车的价值还是很高。\n",
      "\n",
      "{\"positive\": [\"划船机制方便\"], \"negative\": [\"座椅硬\", \"颜色选择有限\"]}\n",
      "\n",
      "评论：\n",
      "我最近从 Star Bikes 购买了一枚 Starlight Cruiser，我对它的感受很好。它的骑行感受很好，它可以轻松地适应城市路面。但是，我发现它的颜色选择有限，只有几种颜色可以选择。此外，座椅的舒适性也有点缺乏。虽然有这些缺点，但我认为这枚自行车的价值还是很高。\n",
      "\n",
      "{\"positive\": [\"骑行感受很好\", \"可以轻松地适应城市路面\"], \"negative\": [\"颜色选择有限\", \"座椅舒适性缺乏\"]}\n",
      "\n",
      "从上面的评论中，我们可以看到有几个主要的观点：\n",
      "\n",
      "1. 骑行感受很好：大多数用户都表示，骑行 Starlight Cruiser 很好，它可以轻松地适应城市路面。\n",
      "2. 座椅不舒服：一些用户表示，座椅有点硬，在长时间骑行时会让人感到不舒服。\n",
      "3. 颜色选择有限：几个用户表示，颜色选择有限，只有几种颜色可以选择。\n",
      "4. 性价比高：大多数用户认为，Starlight Cruiser 的性价比很高，值得����\n"
     ]
    }
   ],
   "source": [
    "# 构建提示词，要求模型从下面的 review 变量中的评论中分别列出正面和负面观点，并以 JSON 格式输出，并指定了 JSON 的格式\n",
    "prompt = f\"\"\"\n",
    "从下面的评论中分别列出正面和负面观点，以 JSON 格式输出。使用以下格式：\n",
    "\n",
    "{{\"positive\": [], \"negative\": []}}\n",
    "\n",
    "评论：{review}\n",
    "\"\"\"\n",
    "\n",
    "# 使用 generate 函数生成模型的回答，并打印出来\n",
    "print(generate(prompt))"
   ]
  },
  {
   "cell_type": "markdown",
   "id": "e9e79ad7-8bff-438d-aa63-91098ab8cb79",
   "metadata": {},
   "source": [
    "---"
   ]
  },
  {
   "cell_type": "markdown",
   "id": "a44d5e44-1921-484d-b3a0-2896a68b8a70",
   "metadata": {},
   "source": [
    "这似乎也没有太大变化。"
   ]
  },
  {
   "cell_type": "markdown",
   "id": "7dcdd580-fd71-4c1c-ae0e-257173c4db20",
   "metadata": {
    "tags": []
   },
   "source": [
    "## 练习：成功生成 JSON"
   ]
  },
  {
   "cell_type": "markdown",
   "id": "7641f227-3353-42dd-9620-36afa52b8318",
   "metadata": {},
   "source": [
    "使用您迄今为止所学到的知识，成功完成我们的任务，让模型创建 JSON 输出。如果您想向模型提供指导性示例，下面提供了两个示例评论及其相应的 JSON 输出。\n",
    "\n",
    "下面还有一个 `pretty_print_json` 辅助函数，您应该能够将 LLM 的响应传递给它。如果响应是有效的 JSON，该函数将以良好的缩进打印它。\n",
    "\n",
    "如果您遇到困难，下面有两个解决方案。它们包括几个当前隐藏的单元格。您可以通过单击 `+ N cells hidden` 按钮来显示它们。"
   ]
  },
  {
   "cell_type": "code",
   "execution_count": 41,
   "id": "29d66b66-2675-42de-a9f0-8612a4d1167d",
   "metadata": {
    "tags": []
   },
   "outputs": [],
   "source": [
    "# 定义一个示例评论列表，包含两条对 Starlight Cruiser 自行车的评价，一条正面，一条负面\n",
    "example_reviews = [\n",
    "\"\"\"\\\n",
    "我最近从 Star Bikes 购买了 Starlight Cruiser，我对它印象深刻。\\\n",
    "骑行很平稳，它可以轻松应对城市地形。\\\n",
    "但是，我确实发现座椅在长时间骑行时有点不舒服。\\\n",
    "此外，颜色选择可以更好。尽管有这些小缺点，\\\n",
    "自行车的制造质量和性能值得称赞。它的性价比很高。\\\n",
    "\"\"\",\n",
    "\"\"\"\\\n",
    "上周买了 Starlight Cruiser，我有点失望。\\\n",
    "刹车不如我想要的灵敏，而且齿轮经常卡住。\\\n",
    "设计不错，但性能方面还有很多不足之处。\\\n",
    "\"\"\"\n",
    "]"
   ]
  },
  {
   "cell_type": "code",
   "execution_count": 42,
   "id": "afc94723-a0f1-4747-84c3-acbaec993943",
   "metadata": {
    "tags": []
   },
   "outputs": [],
   "source": [
    "# example_outputs = [\n",
    "#     {\n",
    "#         \"positive\": [\"smooth ride\", \"ease of handling urban terrains\", \"good value for the money\"],\n",
    "#         \"negative\": [\"seat uncomfortable for longer rides\", \"limited color options\"]\n",
    "#     },\n",
    "#     {\n",
    "#         \"positive\": [\"good design\"],\n",
    "#         \"negative\": [\"brakes not repsonsive\", \"gears often get stuck\", \"performance leaves much to be desired\"]\n",
    "#     }\n",
    "# ]"
   ]
  },
  {
   "cell_type": "code",
   "execution_count": 42,
   "id": "a156f748-fc61-4fd8-a02d-ce4d3154c086",
   "metadata": {
    "tags": []
   },
   "outputs": [],
   "source": [
    "# 定义一个示例输出列表，包含两条对 Starlight Cruiser 自行车的评价，一条正面，一条负面\n",
    "example_outputs = [\n",
    "    {\n",
    "        \"positive\": [\"平稳的骑行体验\", \"轻松应对城市地形\", \"性价比高\"],\n",
    "        \"negative\": [\"长时间骑行时座椅不舒服\", \"颜色选择有限\"]\n",
    "    },\n",
    "    {\n",
    "        \"positive\": [\"设计不错\"],\n",
    "        \"negative\": [\"刹车不灵敏\", \"齿轮经常卡住\", \"性能不足\"]\n",
    "    }\n",
    "]"
   ]
  },
  {
   "cell_type": "code",
   "execution_count": 43,
   "id": "67c7faab-ad5e-4a02-abbb-e3e97f56c20c",
   "metadata": {
    "tags": []
   },
   "outputs": [],
   "source": [
    "def pretty_print_json(json_string):\n",
    "    print(json.dumps(json.loads(json_string), indent=4))"
   ]
  },
  {
   "cell_type": "markdown",
   "id": "8ff812a8-22c5-436d-aca0-bef2f42eacdc",
   "metadata": {
    "tags": []
   },
   "source": [
    "### 解决方案 1"
   ]
  },
  {
   "cell_type": "markdown",
   "id": "355fadea-39db-4406-9f26-d238ba555e34",
   "metadata": {},
   "source": [
    "创建提示/响应二元组(2-tuple)示例列表。请注意，在此实现中，我们只是将评论用作提示，没有任何其他输入。"
   ]
  },
  {
   "cell_type": "code",
   "execution_count": 44,
   "id": "ba63c6ef-54bf-42ab-a80c-cb34c5b8a7d5",
   "metadata": {
    "tags": []
   },
   "outputs": [],
   "source": [
    "examples = [(example_review, json.dumps(example_output)) for example_review, example_output in zip(example_reviews, example_outputs)]"
   ]
  },
  {
   "cell_type": "markdown",
   "id": "b36ba2a0-eb41-4486-93bd-f7be9155b61d",
   "metadata": {},
   "source": [
    "检查我们示例的格式。"
   ]
  },
  {
   "cell_type": "code",
   "execution_count": 45,
   "id": "e7b76248-6060-4ca4-9ee2-5fa77c783d87",
   "metadata": {
    "tags": []
   },
   "outputs": [
    {
     "data": {
      "text/plain": [
       "[('我最近从 Star Bikes 购买了 Starlight Cruiser，我对它印象深刻。骑行很平稳，它可以轻松应对城市地形。但是，我确实发现座椅在长时间骑行时有点不舒服。此外，颜色选择可以更好。尽管有这些小缺点，自行车的制造质量和性能值得称赞。它的性价比很高。',\n",
       "  '{\"positive\": [\"smooth ride\", \"ease of handling urban terrains\", \"good value for the money\"], \"negative\": [\"seat uncomfortable for longer rides\", \"limited color options\"]}'),\n",
       " ('上周买了 Starlight Cruiser，我有点失望。刹车不如我想要的灵敏，而且齿轮经常卡住。设计不错，但性能方面还有很多不足之处。',\n",
       "  '{\"positive\": [\"good design\"], \"negative\": [\"brakes not repsonsive\", \"gears often get stuck\", \"performance leaves much to be desired\"]}')]"
      ]
     },
     "execution_count": 45,
     "metadata": {},
     "output_type": "execute_result"
    }
   ],
   "source": [
    "examples"
   ]
  },
  {
   "cell_type": "markdown",
   "id": "6e595ea4-0f21-4ada-8611-3d6e36cde3db",
   "metadata": {},
   "source": [
    "---"
   ]
  },
  {
   "cell_type": "markdown",
   "id": "5effcf36-a628-49b3-bd60-fce2d031a372",
   "metadata": {},
   "source": [
    "使用 `review` 作为我们的提示。"
   ]
  },
  {
   "cell_type": "code",
   "execution_count": 46,
   "id": "45ac716d-7adb-46ac-a1c2-06a7b7dbbdd0",
   "metadata": {
    "tags": []
   },
   "outputs": [],
   "source": [
    "prompt = review"
   ]
  },
  {
   "cell_type": "markdown",
   "id": "2563dc99-094d-46bb-9090-80cb227b91b6",
   "metadata": {},
   "source": [
    "生成响应。"
   ]
  },
  {
   "cell_type": "code",
   "execution_count": 47,
   "id": "6bb98ea0-64d2-4c71-9f3e-a0af29a921bb",
   "metadata": {
    "tags": []
   },
   "outputs": [],
   "source": [
    "json_response = generate(prompt_with_examples(prompt, examples))"
   ]
  },
  {
   "cell_type": "code",
   "execution_count": 48,
   "id": "9f00ee72-d283-4a4f-a9bd-bb0fc1f9f78f",
   "metadata": {
    "tags": []
   },
   "outputs": [
    {
     "name": "stdout",
     "output_type": "stream",
     "text": [
      "{\n",
      "    \"positive\": [\n",
      "        \"smooth ride\",\n",
      "        \"ease of handling urban terrains\",\n",
      "        \"good value for the money\"\n",
      "    ],\n",
      "    \"negative\": [\n",
      "        \"seat uncomfortable for longer rides\",\n",
      "        \"limited color options\"\n",
      "    ]\n",
      "}\n"
     ]
    }
   ],
   "source": [
    "pretty_print_json(json_response)"
   ]
  },
  {
   "cell_type": "markdown",
   "id": "8ee16a34-9528-4a39-a12a-36cd2dc2ff13",
   "metadata": {
    "tags": []
   },
   "source": [
    "### 解决方案 2"
   ]
  },
  {
   "cell_type": "markdown",
   "id": "ac35791e-a2ea-4eed-83aa-77153e96f629",
   "metadata": {},
   "source": [
    "虽然*解决方案 1* 展示了**双样本学习**的有效使用，但根据本笔记本的目标，值得一提的是，我还能够通过在之前迭代的提示中添加**线索** `JSON:` 来获得可行的解决方案。"
   ]
  },
  {
   "cell_type": "code",
   "execution_count": 49,
   "id": "5440a4a4-1169-4bec-b695-41241720e378",
   "metadata": {
    "tags": []
   },
   "outputs": [
    {
     "name": "stdout",
     "output_type": "stream",
     "text": [
      "{\n",
      "    \"positive\": [],\n",
      "    \"negative\": [\n",
      "        \"\\u5ea7\\u6905\\u5728\\u957f\\u65f6\\u95f4\\u9a91\\u884c\\u65f6\\u6709\\u70b9\\u4e0d\\u8212\\u670d\",\n",
      "        \"\\u989c\\u8272\\u9009\\u62e9\\u53ef\\u4ee5\\u66f4\\u597d\"\n",
      "    ]\n",
      "}\n"
     ]
    }
   ],
   "source": [
    "prompt = f\"\"\"\n",
    "From the review below, list down the positive points and negative points separately, in JSON. Use the following format:\n",
    "\n",
    "{{\"positive\": [], \"negative\": []}}\n",
    "\n",
    "Review: {review}\n",
    "JSON:\n",
    "\"\"\"\n",
    "\n",
    "pretty_print_json(generate(prompt))"
   ]
  },
  {
   "cell_type": "markdown",
   "id": "ef00f573-c735-4b49-9c0a-268ddef53d17",
   "metadata": {
    "tags": []
   },
   "source": [
    "## 关键概念回顾"
   ]
  },
  {
   "cell_type": "markdown",
   "id": "f70a0eb3-ca0e-4a0b-9883-4c647b2a69a2",
   "metadata": {},
   "source": [
    "本笔记本介绍了以下关键概念：\n",
    "\n",
    "- **情感分析**：识别一段文本的情绪或情感。\n",
    "- **指令微调**：通过定制的基于示例的学习来提高模型的任务性能。\n",
    "- **LLaMA-2 提示模板**：指导 LLaMA-2 模型响应的预先设计的格式，在指令微调期间使用。\n",
    "- **少量样本学习**：将一对多指导性示例添加到模型之前，以改进其响应。\n",
    "\n",
    "- **Sentiment Analysis:** Identifying the mood or sentiment for a piece of text.\n",
    "- **Instruction Fine-Tuning:** Improving a model's task performance through tailored example-based learning.\n",
    "- **LLaMA-2 Prompt Template:** A pre-designed format guiding LLaMA-2 model responses, used during instruction fine-tuning.\n",
    "- **Few-shot Learning:** Prepending one-to-many instructive examples to a model to improve its responses."
   ]
  },
  {
   "cell_type": "markdown",
   "id": "57ed6228-d930-4216-981b-fbb17f43169d",
   "metadata": {},
   "source": [
    "## 可选的高级练习"
   ]
  },
  {
   "cell_type": "markdown",
   "id": "f085bcc0-e14f-493f-8d82-2de8479b88fd",
   "metadata": {},
   "source": [
    "如果您想超越课程的要求，以下是一些供您尝试的额外的开放式练习。"
   ]
  },
  {
   "cell_type": "markdown",
   "id": "2c4e5e3c-4d6b-40ba-a394-7303f6d51c02",
   "metadata": {},
   "source": [
    "### 多种输出数据"
   ]
  },
  {
   "cell_type": "markdown",
   "id": "b1e86f04-9286-46a2-94c1-1324f4b917d3",
   "metadata": {},
   "source": [
    "我们成功生成了 JSON。尝试生成不同形式的数据，例如 HTML 表格。"
   ]
  },
  {
   "cell_type": "markdown",
   "id": "6ab309cc-36af-4de4-9612-db45e834aaa6",
   "metadata": {},
   "source": [
    "### 使用 7B 模型"
   ]
  },
  {
   "cell_type": "markdown",
   "id": "f1bbea16-622a-489d-ad55-470d16847e32",
   "metadata": {},
   "source": [
    "在笔记本顶部，重启内核后（参见下面的单元格），取消注释并使用 7B 模型而不是我们演示的 13B 模型。尝试通过提示工程获得令人满意的结果，尽管使用了更小（更弱）的模型。 "
   ]
  },
  {
   "cell_type": "markdown",
   "id": "9ff80ed9-ac57-4aff-8ea1-56cce851733c",
   "metadata": {},
   "source": [
    "### 重用模型进行其他分析"
   ]
  },
  {
   "cell_type": "markdown",
   "id": "da9608db-f236-407d-9c3c-0b52d6fbc0e6",
   "metadata": {},
   "source": [
    "像 LLaMA-2 这样的 LLM 的一大优势是，它们能够执行许多我们以前可能需要许多不同模型才能执行的任务。\n",
    "\n",
    "考虑一下，如果您要收集许多评论的“正面”和“负面”点，您可能会发现许多您认为相似的项目，但模型将其记录为不同的字符串，例如“好轮胎”和“很棒的轮胎”。您是否可以使用该模型创建以某种方式捕获这些类型项目的数据，这些项目您和我认为是相同的，以便在数据中捕获为相同的？\n",
    "\n",
    "您还有兴趣进行哪些其他类型的分析？"
   ]
  },
  {
   "cell_type": "markdown",
   "id": "caee7b83-5f14-45e2-9958-90fea3374a76",
   "metadata": {
    "tags": []
   },
   "source": [
    "## 重启内核"
   ]
  },
  {
   "cell_type": "markdown",
   "id": "334779e1-fecf-4157-ab7c-9bddb41f3b29",
   "metadata": {},
   "source": [
    "为了给下一个笔记本释放 GPU 内存，请运行以下单元格以重启内核。"
   ]
  },
  {
   "cell_type": "code",
   "execution_count": null,
   "id": "e35a6feb-846c-450e-8991-63c3b06392cc",
   "metadata": {
    "tags": []
   },
   "outputs": [],
   "source": [
    "from IPython import get_ipython\n",
    "\n",
    "get_ipython().kernel.do_shutdown(restart=True)"
   ]
  },
  {
   "cell_type": "markdown",
   "id": "069b652b",
   "metadata": {},
   "source": [
    "# [5LOI DEEP LEARNING INSTITUE](https://5loi.com)"
   ]
  },
  {
   "cell_type": "markdown",
   "id": "0da865cb",
   "metadata": {},
   "source": [
    "### [AI COMMUNITY](https://www.theforage.cn/community)\n",
    "\n",
    "### [5LOI](https://5loi.com/about_loi)"
   ]
  },
  {
   "cell_type": "markdown",
   "id": "2f6fef8c-117b-4acd-9ff9-fd681b7f4215",
   "metadata": {},
   "source": [
    "![DLI Header](images/DLI_Header.png)"
   ]
  }
 ],
 "metadata": {
  "kernelspec": {
   "display_name": "Python 3 (ipykernel)",
   "language": "python",
   "name": "python3"
  },
  "language_info": {
   "codemirror_mode": {
    "name": "ipython",
    "version": 3
   },
   "file_extension": ".py",
   "mimetype": "text/x-python",
   "name": "python",
   "nbconvert_exporter": "python",
   "pygments_lexer": "ipython3",
   "version": "3.8.10"
  }
 },
 "nbformat": 4,
 "nbformat_minor": 5
}
