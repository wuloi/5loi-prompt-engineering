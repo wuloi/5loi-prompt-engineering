{
 "cells": [
  {
   "cell_type": "markdown",
   "id": "791bd59f-2b8b-4484-b400-7a80d64b30d8",
   "metadata": {},
   "source": [
    "![DLI Header](images/DLI_Header.png)"
   ]
  },
  {
   "cell_type": "markdown",
   "id": "526a0b41-362c-4d43-957b-5f281b189034",
   "metadata": {
    "tags": []
   },
   "source": [
    "# 使用 LLaMA-2 进行提示工程"
   ]
  },
  {
   "cell_type": "markdown",
   "id": "0eda2376-6e56-4546-826a-617533f589ce",
   "metadata": {},
   "source": [
    "欢迎来到 *使用 LLaMA-2 进行提示工程*！\n",
    "\n",
    "提示工程只需少量工作即可大幅提高大型语言模型 (LLM) 的能力。拥有强大的提示工程工具包，您可以自定义 LLM 行为以执行各种任务，并充分利用 LLM，无论其规模大小。\n",
    "\n",
    "在本课程中，您将与 LLaMA-2 模型进行交互并对其进行提示工程，以分析文档、生成文本并充当 AI 助手。完成本课程后，您将能够：\n",
    "\n",
    "- 迭代编写精确的提示，使 LLM 行为与您的意图相符。\n",
    "- 利用强大的系统消息编辑功能。\n",
    "- 使用一对多示例提示工程指导 LLM。\n",
    "- 将提示-响应历史记录合并到 LLM 上下文中以创建聊天机器人行为。"
   ]
  },
  {
   "cell_type": "markdown",
   "id": "7a3e21d5-1ccc-4762-859a-e0f4101426bb",
   "metadata": {},
   "source": [
    "## 先决条件"
   ]
  },
  {
   "cell_type": "markdown",
   "id": "639be597-0e46-4409-a755-3c54d826c583",
   "metadata": {},
   "source": [
    "本课程主要面向具有一定大型语言模型交互经验（例如使用 ChatGPT）但尚未以编程方式广泛使用 LLM 的 Python 开发人员。\n",
    "\n",
    "如果您熟悉大型语言模型的基础知识，您将略占优势，但这并不是您从本课程中获益匪浅的硬性要求。\n",
    "\n",
    "在本课程中，我们的目标是实用性，并将开发置于理论之上。我们会在需要时尽可能以轻松的方式深入探讨概念和理论。"
   ]
  },
  {
   "cell_type": "markdown",
   "id": "6674f5c0-94b5-4fae-97a2-3cad3ba896e0",
   "metadata": {},
   "source": [
    "## 课程结构"
   ]
  },
  {
   "cell_type": "markdown",
   "id": "d7512dcd-c7f0-4d2f-b783-bfda2a1a5892",
   "metadata": {},
   "source": [
    "本课程包含几个交互式笔记本，这些笔记本将教授相关技术，然后通过额外的练习挑战您，以提高您的技能。\n",
    "\n",
    "1. **简介**：本笔记本。\n",
    "2. **迭代提示开发**：在本笔记本中，我们将迭代一系列简单的提示，熟悉我们将在整个课程中使用的 transformers 管道和 LLaMA-2 模型。我们将学习**精确**提示的重要性。\n",
    "3. **Star Bikes 产品评论分析师**：在本笔记本中，您将为一家虚构的自行车公司构建一个 AI 驱动的文档分析师，并学习如何执行**少量样本学习**。\n",
    "4. **Star Bikes 营销文案生成器**：在本笔记本中，您将构建一个 AI 驱动的营销文案编写器，能够执行多种生成任务，并学习如何提供和利用**系统上下文**。\n",
    "5. **随机角色**：在本笔记本中，您将通过学习启用**采样**和控制模型生成的**温度**来创建独特的 AI 角色。\n",
    "6. **聊天机器人**：在本笔记本中，您将开始创建聊天机器人功能，创建一个能够保留对话历史记录的聊天机器人。\n",
    "7. **Star Bikes AI 助手**：在本笔记本中，您将创建一个 AI 助手来帮助客户做出从 Star Bikes 购买新自行车的最佳决策，并将学习如何处理模型的**标记限制**。\n",
    "8. **结论**：在本笔记本中，您将回顾在本课程中学到的所有内容，并获得有关学习的下一步逻辑步骤的一些指导。"
   ]
  },
  {
   "cell_type": "markdown",
   "id": "d141dbc4",
   "metadata": {},
   "source": [
    "# [5LOI DEEP LEARNING INSTITUE](https://5loi.com)"
   ]
  },
  {
   "cell_type": "markdown",
   "id": "93751a78",
   "metadata": {},
   "source": [
    "### [AI COMMUNITY](https://www.theforage.cn/community)\n",
    "\n",
    "### [5LOI](https://5loi.com/about_loi)"
   ]
  },
  {
   "cell_type": "markdown",
   "id": "ef95b26c-1b81-452a-87be-f00fcac095d8",
   "metadata": {},
   "source": [
    "![DLI Header](images/DLI_Header.png)"
   ]
  }
 ],
 "metadata": {
  "kernelspec": {
   "display_name": "Python 3 (ipykernel)",
   "language": "python",
   "name": "python3"
  },
  "language_info": {
   "codemirror_mode": {
    "name": "ipython",
    "version": 3
   },
   "file_extension": ".py",
   "mimetype": "text/x-python",
   "name": "python",
   "nbconvert_exporter": "python",
   "pygments_lexer": "ipython3",
   "version": "3.8.10"
  }
 },
 "nbformat": 4,
 "nbformat_minor": 5
}
