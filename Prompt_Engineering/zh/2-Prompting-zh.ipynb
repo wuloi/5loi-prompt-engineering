{
 "cells": [
  {
   "cell_type": "markdown",
   "id": "bb68f6a4-67c2-4f6b-bd90-4fc7e361fe86",
   "metadata": {},
   "source": [
    "![DLI Header](images/DLI_Header.png)"
   ]
  },
  {
   "cell_type": "markdown",
   "id": "2e27fba5-6948-42c9-9ac3-bf8a67244619",
   "metadata": {
    "tags": []
   },
   "source": [
    "# 迭代式提示词开发"
   ]
  },
  {
   "cell_type": "markdown",
   "id": "8e13d039-9ec5-4617-912f-4bfc84f9324d",
   "metadata": {},
   "source": [
    "在本笔记本中，我们将通过迭代一系列简单的提示词来进行热身，熟悉我们将在整个课程中使用的 `transformers` 管道和 LLaMA-2 模型。\n",
    "\n",
    "通过迭代式地实验看似简单的提示词，我们将开始看到创建**具体**的、提供**线索**的提示词的重要性，还将学习如何在给模型提供它可能觉得具有挑战性的任务时，给模型**“时间思考”**。"
   ]
  },
  {
   "cell_type": "markdown",
   "id": "83db67bb-a953-4210-a032-bf9f7957ebad",
   "metadata": {},
   "source": [
    "## 学习目标"
   ]
  },
  {
   "cell_type": "markdown",
   "id": "8646c89b-a172-4773-8b93-1a213df8d746",
   "metadata": {},
   "source": [
    "当你完成本笔记本时，你将能够：\n",
    "- 使用 `transformers` 管道从 LLaMA-2 大型语言模型生成响应。\n",
    "- 制作**具体**的提示词。\n",
    "- 制作给模型**“时间思考”**的提示词。\n",
    "- 为模型提供**线索**以引导其响应。"
   ]
  },
  {
   "cell_type": "markdown",
   "id": "89c0fd90-b2c4-4432-a6f0-7d378325d0ed",
   "metadata": {},
   "source": [
    "## 视频演练"
   ]
  },
  {
   "cell_type": "markdown",
   "id": "6eeab60a-a06a-43ff-8ddf-51d0d8f4a32f",
   "metadata": {},
   "source": [
    "执行下面的单元格以加载本笔记本的视频演练。 "
   ]
  },
  {
   "cell_type": "code",
   "execution_count": 5,
   "id": "cf5f1c59-ec1f-44c3-8628-41a240f610fc",
   "metadata": {
    "tags": []
   },
   "outputs": [
    {
     "data": {
      "text/html": [
       "\n",
       "<video controls width=\"640\" height=\"360\">\n",
       "    <source src=\"https://d36m44n9vdbmda.cloudfront.net/assets/s-fx-12-v1/v2/02-prompting.mp4\" type=\"video/mp4\">\n",
       "    您的浏览器不支持 video 标签。 \n",
       "</video>\n"
      ],
      "text/plain": [
       "<IPython.core.display.HTML object>"
      ]
     },
     "metadata": {},
     "output_type": "display_data"
    }
   ],
   "source": [
    "from IPython.display import HTML\n",
    "\n",
    "# 视频地址\n",
    "video_url = \"https://d36m44n9vdbmda.cloudfront.net/assets/s-fx-12-v1/v2/02-prompting.mp4\"\n",
    "\n",
    "# 用于嵌入视频的 HTML 代码\n",
    "video_html = f\"\"\"\n",
    "<video controls width=\"640\" height=\"360\">\n",
    "    <source src=\"{video_url}\" type=\"video/mp4\">\n",
    "    您的浏览器不支持 video 标签。 \n",
    "</video>\n",
    "\"\"\"\n",
    "\n",
    "# 显示视频\n",
    "display(HTML(video_html))"
   ]
  },
  {
   "cell_type": "markdown",
   "id": "527e2324-6ed6-4658-910f-d15c68e26248",
   "metadata": {},
   "source": [
    "## 创建 LLaMA-2 管道"
   ]
  },
  {
   "cell_type": "code",
   "execution_count": 7,
   "id": "465f9aa8-b9d0-4c87-9b54-bcb9d59f9880",
   "metadata": {
    "tags": []
   },
   "outputs": [],
   "source": [
    "# 导入 pipeline 模块\n",
    "from transformers import pipeline\n",
    "\n",
    "# 指定要使用的模型\n",
    "model = \"TheBloke/Llama-2-13B-chat-GPTQ\"\n",
    "\n",
    "# 创建文本生成管道，并指定模型和设备\n",
    "llama_pipe = pipeline(\"text-generation\", model=model, device_map=\"auto\"); "
   ]
  },
  {
   "cell_type": "markdown",
   "id": "0cc37a21-9dd5-46b0-a99a-243082a12981",
   "metadata": {},
   "source": [
    "## 辅助函数"
   ]
  },
  {
   "cell_type": "markdown",
   "id": "8af26cb7-f326-4aec-91b8-128d87b8a7d3",
   "metadata": {},
   "source": [
    "在本笔记本中，我们将使用以下函数来支持我们与大型语言模型的交互。"
   ]
  },
  {
   "cell_type": "markdown",
   "id": "69b99117-4086-4737-ba05-f576ba8e9875",
   "metadata": {},
   "source": [
    "### 生成模型响应"
   ]
  },
  {
   "cell_type": "code",
   "execution_count": 8,
   "id": "8fca80c8-610c-4f46-bb11-65d1ad3dbc59",
   "metadata": {
    "tags": []
   },
   "outputs": [],
   "source": [
    "def generate(prompt, max_length=1024, pipe=llama_pipe, **kwargs):\n",
    "    \"\"\"\n",
    "    使用指定的语言模型管道生成对给定提示的响应。\n",
    "\n",
    "    此函数接收一个提示并将其传递给语言模型管道（例如 LLaMA）以生成文本响应。\n",
    "    该函数旨在允许通过各种参数和关键字参数自定义生成过程。\n",
    "\n",
    "    参数：\n",
    "    - prompt (str): 用于生成响应的输入文本提示。\n",
    "    - max_length (int): 生成的响应的最大长度。默认为 1024 个标记。\n",
    "    - pipe (callable): 用于生成的语言模型管道函数。默认为 llama_pipe。\n",
    "    - ** kwargs: 传递给管道函数的其他关键字参数。\n",
    "\n",
    "    返回值：\n",
    "    - str: 模型生成的文本响应，已去除前导和尾随空格。\n",
    "\n",
    "    使用示例：\n",
    "    ```\n",
    "    prompt_text = \"解释相对论。\"\n",
    "    response = generate(prompt_text, max_length=512, pipe=my_custom_pipeline, temperature=0.7)\n",
    "    print(response)\n",
    "    ```\n",
    "    \"\"\"\n",
    "\n",
    "    def_kwargs = dict(return_full_text=False, return_dict=False)\n",
    "    response = pipe(prompt.strip(), max_length=max_length, **kwargs, ** def_kwargs)\n",
    "    return response[0]['generated_text'].strip()"
   ]
  },
  {
   "cell_type": "markdown",
   "id": "2999e0dc-b67a-436d-a6df-ff86b8e5c0d1",
   "metadata": {
    "tags": []
   },
   "source": [
    "## 加利福尼亚州的首府"
   ]
  },
  {
   "cell_type": "markdown",
   "id": "9aaf04e1-e084-4d05-a1a8-e51331f3c6eb",
   "metadata": {},
   "source": [
    "让我们从一个非常简单的提示词开始，我们将把它传递给我们的 `generate` 函数，以便从我们正在使用的 LLaMA-2 模型获得响应。在本系列提示词中，我们希望模型用加利福尼亚州的首府 *Sacramento* 来回答我们。\n",
    "\n",
    "我们希望这次实验能够得到准确的响应 `\"Sacramento\"`，而不需要任何其他内容。"
   ]
  },
  {
   "cell_type": "code",
   "execution_count": 9,
   "id": "01702d62-b226-45b6-8e20-ed7f410b62e3",
   "metadata": {
    "tags": []
   },
   "outputs": [
    {
     "name": "stdout",
     "output_type": "stream",
     "text": [
      "A. 旧金山\n",
      "B. 洛杉矶\n",
      "C. 萨克拉门托\n",
      "D. 法尔的贝尼托\n",
      "\n",
      "答案：C. 萨克拉门托\n",
      "\n",
      "解释：加利福尼亚州的首府是萨克拉门托（Sacramento），而不是旧金山（San Francisco）、洛杉矶（Los Angeles）或法尔的贝尼托（Fresno）。\n"
     ]
    }
   ],
   "source": [
    "# 设置提示词，询问加利福尼亚州的首府\n",
    "prompt = \"加利福尼亚州的首府是什么？\"  \n",
    "\n",
    "# 使用 generate 函数生成模型的回答，并打印出来\n",
    "print(generate(prompt)) "
   ]
  },
  {
   "cell_type": "markdown",
   "id": "8b7c70c6-e7e8-46f0-8d28-5033460263a8",
   "metadata": {
    "tags": []
   },
   "source": [
    "---"
   ]
  },
  {
   "cell_type": "markdown",
   "id": "6cbac8c9-319e-43f3-9859-b2f269bb50ff",
   "metadata": {},
   "source": [
    "该模型不明白我们只想要首府城市的名称，而不需要任何其他上下文，所以让我们制作一个更**具体**的提示词。"
   ]
  },
  {
   "cell_type": "code",
   "execution_count": 27,
   "id": "a69727a1-e364-4a17-93d1-721be30b63e8",
   "metadata": {
    "tags": []
   },
   "outputs": [
    {
     "name": "stdout",
     "output_type": "stream",
     "text": [
      "Answer: Sacramento.\n"
     ]
    }
   ],
   "source": [
    "# 设置提示词，要求模型只回答加利福尼亚州的首府，并尽可能简洁\n",
    "prompt = \"加利福尼亚州的首府的英文名称是什么？请只回答这个问题，并尽可能用最少的词。\" \n",
    "\n",
    "# 使用 generate 函数生成模型的回答，并打印出来\n",
    "print(generate(prompt))"
   ]
  },
  {
   "cell_type": "markdown",
   "id": "855424dc-6d97-41c4-8347-d98aba83a787",
   "metadata": {
    "tags": []
   },
   "source": [
    "---"
   ]
  },
  {
   "cell_type": "markdown",
   "id": "de56c7ff-2627-4fca-9c97-4177340358c5",
   "metadata": {},
   "source": [
    "这是一个改进，但我们在响应中仍然得到了一个前导的 `Answer: `。让我们尝试通过给模型提供**线索** `Answer: ` 来防止这种行为。这样做可能会阻止模型自己提供该文本。"
   ]
  },
  {
   "cell_type": "code",
   "execution_count": 12,
   "id": "fd4cbbf1-7b45-481f-8a2b-a4b6589aa800",
   "metadata": {
    "tags": []
   },
   "outputs": [
    {
     "name": "stdout",
     "output_type": "stream",
     "text": [
      "Sacramento。\n"
     ]
    }
   ],
   "source": [
    "# 设置提示词，要求模型只回答加利福尼亚州的首府，并尽可能简洁，同时提供 \"Answer: \" 作为引导\n",
    "prompt = \"加利福尼亚州的首府是什么？请只回答这个问题，并尽可能用最少的词。Answer: \" \n",
    "\n",
    "# 使用 generate 函数生成模型的回答，并打印出来\n",
    "print(generate(prompt))"
   ]
  },
  {
   "cell_type": "markdown",
   "id": "8b27326d-a109-4483-a820-73cd66c63fbd",
   "metadata": {
    "tags": []
   },
   "source": [
    "## Sacramento 中的元音"
   ]
  },
  {
   "cell_type": "markdown",
   "id": "aeeec1c9-d7bc-4a56-8938-8292f2b50331",
   "metadata": {},
   "source": [
    "在下一节中，我们将尝试让模型做一些更复杂的事情：告诉我们加利福尼亚州首府名称中的所有元音。\n",
    "\n",
    "正确答案是 S**a**cr**a**m**e**nt**o** -> **aaeo** -> **aeo**。值得注意的是，为了方便我自己（和你），我执行了多个步骤才得到我的答案。"
   ]
  },
  {
   "cell_type": "code",
   "execution_count": 16,
   "id": "546b97c2-b2a1-4251-adbc-864c271f2e0b",
   "metadata": {
    "tags": []
   },
   "outputs": [
    {
     "name": "stdout",
     "output_type": "stream",
     "text": [
      "加利福尼亚州首府名称（英文）中的元音字母有哪些？\n",
      "\n",
      "加利福尼亚州首府名称（英文）中的元音字母有以下几个：\n",
      "\n",
      "1. A (在 \"Sacramento\" 中)\n",
      "2. E (在 \"Sacramento\" 中)\n",
      "3. I (在 \"Sacramento\" 中)\n",
      "\n",
      "因此，加利福尼亚州首府名称（英文）中的元音字母有 A, E, I 三个。\n"
     ]
    }
   ],
   "source": [
    "# 设置提示词，询问加利福尼亚州首府名称中的元音字母\n",
    "prompt = \"告诉我加利福尼亚州首府名称（英文）中的元音字母。\"\n",
    "\n",
    "# 使用 generate 函数生成模型的回答，并打印出来\n",
    "print(generate(prompt))"
   ]
  },
  {
   "cell_type": "markdown",
   "id": "92e13825-1418-432b-b5ea-167111451243",
   "metadata": {
    "tags": []
   },
   "source": [
    "---"
   ]
  },
  {
   "cell_type": "markdown",
   "id": "baf59eea-2643-43c8-be7f-7a1bb5f658a8",
   "metadata": {},
   "source": [
    "当模型面临需要多步骤推理的情况时，构建一个请求模型执行多个中间步骤的提示通常会有所帮助，就像要求它显示其工作原理一样。这种技术通常被称为给模型**“时间思考”**。\n",
    "\n",
    "下面的提示旨在获得相同的最终结果，但要求模型先回答加利福尼亚州的首府，然后再回答其中的元音。"
   ]
  },
  {
   "cell_type": "code",
   "execution_count": 17,
   "id": "91edcd68-c6ea-4dce-8f3a-1ae4a326ac56",
   "metadata": {
    "tags": []
   },
   "outputs": [
    {
     "name": "stdout",
     "output_type": "stream",
     "text": [
      "首府是 Sacramento，其中的元音字母有：\n",
      "\n",
      "* a (as in \"cat\")\n",
      "* e (as in \"bet\")\n",
      "* o (as in \"go\")\n",
      "\n",
      "所以，加利福尼亚州的首府 Sacramento 的元音字母有 a、e、o 三个。\n"
     ]
    }
   ],
   "source": [
    "# 设置提示词，先询问加利福尼亚州的首府，然后询问其中的元音字母\n",
    "prompt = \"告诉我加利福尼亚州的首府（英文），然后告诉我其中的所有元音字母。\" \n",
    "\n",
    "# 使用 generate 函数生成模型的回答，并打印出来\n",
    "print(generate(prompt))"
   ]
  },
  {
   "cell_type": "markdown",
   "id": "8682e8d0-fb74-4b1e-8046-7b1037e83cb4",
   "metadata": {
    "tags": []
   },
   "source": [
    "---"
   ]
  },
  {
   "cell_type": "markdown",
   "id": "e33833fe-bd3f-482f-a4d8-068b65ec4639",
   "metadata": {},
   "source": [
    "现在我们看到了给模型**“时间思考”**的有效性，让我们尝试一个稍微复杂一点的任务：按字母倒序排列加利福尼亚州首府中的元音。\n",
    "\n",
    "正确答案是 S**a**cr**a**m**e**nt**o** -> **aaeo** -> **aeo** -> **oea**"
   ]
  },
  {
   "cell_type": "code",
   "execution_count": 18,
   "id": "fd3413ea-8224-4a30-8ab5-b89f31f7f254",
   "metadata": {
    "tags": []
   },
   "outputs": [
    {
     "name": "stdout",
     "output_type": "stream",
     "text": [
      "首先，加利福尼亚州首府的英文名称是 Sacramento。\n",
      "\n",
      "Sacramento 中的元音字母有：\n",
      "\n",
      "* a (在 \"a\" 的位置)\n",
      "* e (在 \"e\" 的位置)\n",
      "* o (在 \"o\" 的位置)\n",
      "\n",
      "按字母倒序排列，我们得到：\n",
      "\n",
      "* o\n",
      "* e\n",
      "* a\n"
     ]
    }
   ],
   "source": [
    "# 设置提示词，询问加利福尼亚州首府名称中的元音字母，并按字母倒序排列\n",
    "prompt = \"告诉我加利福尼亚州首府（英文）名称中的元音字母，并按字母倒序排列？\"\n",
    "\n",
    "# 使用 generate 函数生成模型的回答，并打印出来\n",
    "print(generate(prompt))"
   ]
  },
  {
   "cell_type": "markdown",
   "id": "63e66050-4449-4c32-8bfa-ed0fa015c776",
   "metadata": {
    "tags": []
   },
   "source": [
    "---"
   ]
  },
  {
   "cell_type": "markdown",
   "id": "0f7acd4f-1c53-47b5-961f-3f5fbf62311a",
   "metadata": {},
   "source": [
    "为了帮助模型，让我们再次给它**“时间思考”**，提示它将任务分解成中间步骤并显示其工作原理。"
   ]
  },
  {
   "cell_type": "code",
   "execution_count": 28,
   "id": "62f3756b-b976-43fb-b082-334bdecbadfc",
   "metadata": {
    "tags": []
   },
   "outputs": [
    {
     "name": "stdout",
     "output_type": "stream",
     "text": [
      "请问：\n",
      "\n",
      "1. 加利福尼亚州的首府的英文名称是什么？\n",
      "2. 这个英文名称中的所有元音字母是什么？\n",
      "3. 按字母倒序排列这些元音字母。\n",
      "\n",
      "请问1，加利福尼亚州的首府的英文名称是什么？\n",
      "\n",
      "Answer 1: The capital of California is Sacramento.\n",
      "\n",
      "请问2, 这个英文名称中的所有元音字母是什么？\n",
      "\n",
      "Answer 2: The vowels in \"Sacramento\" are \"a\", \"e\", and \"o\".\n",
      "\n",
      "请问3, 按字母倒序排列这些元音字母。\n",
      "\n",
      "Answer 3: The vowels in \"Sacramento\" in alphabetical order are \"e\", \"a\", and \"o\".\n"
     ]
    }
   ],
   "source": [
    "# 设置提示词，先询问加利福尼亚州的首府，然后询问其中的元音字母，最后按字母倒序排列这些元音字母\n",
    "prompt = \"告诉我加利福尼亚州的首府的英文名称，然后告诉我这个英文名称中的所有元音字母，最后按字母倒序排列这些元音字母。\"\n",
    "\n",
    "# 使用 generate 函数生成模型的回答，并打印出来\n",
    "print(generate(prompt))"
   ]
  },
  {
   "cell_type": "markdown",
   "id": "d74e501e-75d9-46e0-8fef-84a9cfd33166",
   "metadata": {},
   "source": [
    "## 练习"
   ]
  },
  {
   "cell_type": "markdown",
   "id": "0fb4e198-d274-43cd-ba2c-620b8fbdd45b",
   "metadata": {},
   "source": [
    "虽然大型语言模型不一定是执行数学运算的最佳工具，但作为练习，请从下面的提示生成响应，该提示旨在获得 23 和 34 相乘的积，然后迭代开发一个提示，使您得到正确答案。请务必考虑如何在提示中做到**精确**，并为模型提供**“时间思考”**的机会。\n",
    "\n",
    "如果您遇到困难，下面提供了一个解决方案。"
   ]
  },
  {
   "cell_type": "code",
   "execution_count": 34,
   "id": "14541792-ee4e-44e9-8d13-a99c3a8d8d3b",
   "metadata": {
    "tags": []
   },
   "outputs": [
    {
     "data": {
      "text/plain": [
       "782"
      ]
     },
     "execution_count": 34,
     "metadata": {},
     "output_type": "execute_result"
    }
   ],
   "source": [
    "23*34  # 显示实际答案"
   ]
  },
  {
   "cell_type": "code",
   "execution_count": 35,
   "id": "24769517-7106-44dd-9e9b-a286a5f15483",
   "metadata": {
    "tags": []
   },
   "outputs": [
    {
     "name": "stdout",
     "output_type": "stream",
     "text": [
      "cm.\n",
      "\n",
      "### Versions\n",
      "\n",
      "There are several versions of the painting, including:\n",
      "\n",
      "1. The original version, which is considered the most authentic and is housed in the Louvre Museum in Paris.\n",
      "2. A version from the early 16th century, which is housed in the National Gallery in London.\n",
      "3. A version from the late 16th century, which is housed in the Prado Museum in Madrid.\n",
      "4. A version from the 17th century, which is housed in the Hermitage Museum in St. Petersburg.\n",
      "\n",
      "Each version has its own unique characteristics and details, but they all share the same overall composition and theme.\n",
      "\n",
      "### Symbolism\n",
      "\n",
      "The painting is rich in symbolism, with many objects and figures representing different aspects of life and death. Some of the most notable symbols include:\n",
      "\n",
      "1. The Fates: The three women in the painting, who represent the Fates, or the goddesses of destiny. They are depicted as spinning the thread of life, which represents the cycle of life and death.\n",
      "2. The Angel: The angel in the painting, who is depicted as a messenger of God, represents the divine intervention that can save souls from damnation.\n",
      "3. The Skull: The skull in the foreground of the painting represents the transience of human life and the inevitability of death.\n",
      "4. The Flowers: The flowers in the painting, particularly the roses, represent the beauty and fragility of life.\n",
      "5. The Tree: The tree in the background of the painting represents the tree of life, which is a symbol of eternal life and the connection between heaven and earth.\n",
      "\n",
      "Overall, the painting is a powerful representation of the human condition, and the struggle between life and death. It is a reminder of the fragility of human life and the importance of living a virtuous life to avoid damnation.\n"
     ]
    }
   ],
   "source": [
    "# 设置提示词，这个提示词对我们来说很清楚，但对模型来说不够精确\n",
    "prompt = \"23x34\" \n",
    "\n",
    "# 使用 generate 函数生成模型的回答，并打印出来\n",
    "print(generate(prompt))"
   ]
  },
  {
   "cell_type": "markdown",
   "id": "897ea6f6-1259-4b1f-977c-e26cc2bdb489",
   "metadata": {},
   "source": [
    "### 你的工作区"
   ]
  },
  {
   "cell_type": "code",
   "execution_count": null,
   "id": "c3a7ab61-dc0e-4ec2-b79d-7f7cc843dd63",
   "metadata": {},
   "outputs": [],
   "source": []
  },
  {
   "cell_type": "markdown",
   "id": "65c1181a-21c7-41bd-acbd-817aa20ae510",
   "metadata": {},
   "source": [
    "### 解决方案"
   ]
  },
  {
   "cell_type": "markdown",
   "id": "3531114a-2570-4707-9afb-0d999841c2ee",
   "metadata": {},
   "source": [
    "点击 `...` 查看可行的解决方案。"
   ]
  },
  {
   "cell_type": "code",
   "execution_count": 42,
   "id": "02322095-a320-4a0a-81b7-b3a62bc6ff18",
   "metadata": {
    "tags": []
   },
   "outputs": [
    {
     "name": "stdout",
     "output_type": "stream",
     "text": [
      "。\n",
      "\n",
      "计算结果应该是：\n",
      "\n",
      "23 × 34 = 761\n",
      "\n",
      "以下是长乘法步骤：\n",
      "\n",
      "1. 将 23 与 34 分别写入两个数字矩阵中：\n",
      "\n",
      "| 23 |\n",
      "| --- |\n",
      "| 34 |\n",
      "\n",
      "2. 计算每个数字的乘积，从左到右，从上到下：\n",
      "\n",
      "| 23 | x | 34 | = | 23 x 34 |\n",
      "\n",
      "3. 将每个乘积写入对应的数字矩阵中：\n",
      "\n",
      "| 23 | x | 34 | = | 761 |\n",
      "\n",
      "4. 将所有乘积写入一个矩阵中，以便更方便地计算：\n",
      "\n",
      "| 23 | x | 34 | = | 761 |\n",
      "\n",
      "5. 计算矩阵的和，即：\n",
      "\n",
      "| 23 | x | 34 | = | 761 |\n",
      "\n",
      "6. 最后，将矩阵的和作为计算结果：\n",
      "\n",
      "23 × 34 = 761\n",
      "\n",
      "这个过程可以帮助你更好地理解和记忆长乘法的步骤。\n"
     ]
    }
   ],
   "source": [
    "# 设置提示词，要求模型计算 23 和 34 的乘积，并使用长乘法步骤展示计算过程\n",
    "prompt = \"计算 23 与 34 的乘积。并使用长乘法步骤（the steps typical of long multiplication）展示计算过程\" \n",
    "\n",
    "# 使用 generate 函数生成模型的回答，并打印出来\n",
    "print(generate(prompt))"
   ]
  },
  {
   "cell_type": "markdown",
   "id": "db9253ae-933e-4bd0-8227-466b55526928",
   "metadata": {
    "tags": []
   },
   "source": [
    "## 关键概念回顾"
   ]
  },
  {
   "cell_type": "markdown",
   "id": "8f1408fc-a6bf-458d-a532-9635677300b9",
   "metadata": {},
   "source": [
    "本笔记本介绍了以下关键概念：\n",
    "\n",
    "- **精确**：尽可能明确地引导大型语言模型的响应。\n",
    "- **线索**：提示的结尾，用于引导其响应，通常是为了防止其在响应中包含线索本身。\n",
    "- **“时间思考”**：提示中的一种质量，通过要求模型采取多个步骤并显示其工作原理来支持大型语言模型的响应（通常需要计算）。"
   ]
  },
  {
   "cell_type": "markdown",
   "id": "b8e05bfc-8d95-4f64-8aca-32a9d5322bfc",
   "metadata": {
    "tags": []
   },
   "source": [
    "## 重启内核\n",
    "\n",
    "|Restart the Kernel"
   ]
  },
  {
   "cell_type": "markdown",
   "id": "c726c6cc-27e7-4f70-98a0-8bee153d1b38",
   "metadata": {},
   "source": [
    "为了给下一个笔记本释放 GPU 内存，请运行以下单元格以重启内核。"
   ]
  },
  {
   "cell_type": "code",
   "execution_count": 43,
   "id": "6f288ecb-54dc-4f4e-8cc9-54230e5f5ab3",
   "metadata": {
    "tags": []
   },
   "outputs": [
    {
     "data": {
      "text/plain": [
       "{'status': 'ok', 'restart': True}"
      ]
     },
     "execution_count": 43,
     "metadata": {},
     "output_type": "execute_result"
    }
   ],
   "source": [
    "# 导入 get_ipython 函数\n",
    "from IPython import get_ipython \n",
    "\n",
    "# 获取当前 IPython 内核并执行重启操作\n",
    "get_ipython().kernel.do_shutdown(restart=True) "
   ]
  },
  {
   "cell_type": "markdown",
   "id": "66adff00",
   "metadata": {},
   "source": [
    "# [5LOI DEEP LEARNING INSTITUE](https://5loi.com)"
   ]
  },
  {
   "cell_type": "markdown",
   "id": "51d801da",
   "metadata": {},
   "source": [
    "### [AI COMMUNITY](https://www.theforage.cn/community)\n",
    "\n",
    "### [5LOI](https://5loi.com/about_loi)"
   ]
  },
  {
   "cell_type": "markdown",
   "id": "873337fb-d71e-4a08-9426-ced44978af4b",
   "metadata": {},
   "source": [
    "![DLI Header](images/DLI_Header.png)"
   ]
  }
 ],
 "metadata": {
  "kernelspec": {
   "display_name": "Python 3 (ipykernel)",
   "language": "python",
   "name": "python3"
  },
  "language_info": {
   "codemirror_mode": {
    "name": "ipython",
    "version": 3
   },
   "file_extension": ".py",
   "mimetype": "text/x-python",
   "name": "python",
   "nbconvert_exporter": "python",
   "pygments_lexer": "ipython3",
   "version": "3.8.10"
  }
 },
 "nbformat": 4,
 "nbformat_minor": 5
}
