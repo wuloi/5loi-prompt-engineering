{
 "cells": [
  {
   "cell_type": "markdown",
   "id": "542cc5a5-0496-4a04-b803-ff010b1ab6a5",
   "metadata": {},
   "source": [
    "![DLI Header](images/DLI_Header.png)"
   ]
  },
  {
   "cell_type": "markdown",
   "id": "34dc9691-32f3-4ade-98ae-8c3079c4ea8d",
   "metadata": {},
   "source": [
    "# 课程总结\n",
    "｜Course Conclusion"
   ]
  },
  {
   "cell_type": "markdown",
   "id": "47b2ad9d-b0d6-4a7e-91e3-025c54226e58",
   "metadata": {},
   "source": [
    "恭喜您完成《使用 LLaMA-2 进行提示工程》课程！我们衷心希望您喜欢这门课程，并且在通过各种提示工程技术与 LLM 交互的能力方面感觉更有能力。"
   ]
  },
  {
   "cell_type": "markdown",
   "id": "9f9983c3",
   "metadata": {},
   "source": [
    "## 视频演练"
   ]
  },
  {
   "cell_type": "markdown",
   "id": "0ac181a0",
   "metadata": {},
   "source": [
    "执行下面的单元格以加载此笔记本的视频演练。"
   ]
  },
  {
   "cell_type": "code",
   "execution_count": null,
   "id": "5e0936fb-6353-4bca-ad6e-666fbd0f0404",
   "metadata": {
    "jupyter": {
     "source_hidden": true
    },
    "tags": []
   },
   "outputs": [],
   "source": [
    " from IPython.display import HTML\n",
    "\n",
    "video_url = \"https://d36m44n9vdbmda.cloudfront.net/assets/s-fx-12-v1/v2/08-conclusion.mp4\"\n",
    "\n",
    "video_html = f\"\"\"\n",
    "<video controls width=\"640\" height=\"360\">\n",
    "    <source src=\"{video_url}\" type=\"video/mp4\">\n",
    "    Your browser does not support the video tag.\n",
    "</video>\n",
    "\"\"\"\n",
    "\n",
    "display(HTML(video_html))"
   ]
  },
  {
   "cell_type": "markdown",
   "id": "f767d1bc-0ca6-4e21-bf9a-90122b3456ec",
   "metadata": {},
   "source": [
    "## 课程回顾\n",
    "｜Course Review"
   ]
  },
  {
   "cell_type": "markdown",
   "id": "c6b09fb9-804e-4a27-b134-141b0d7411a1",
   "metadata": {},
   "source": [
    "您在这门课程中学到了很多东西。现在您已经完成了这门课程，您可以：\n",
    "\n",
    "- **迭代** 地设计**具体** 的提示，提供**提示** 并给模型**“思考时间”** 。\n",
    "- 对非结构化文本执行**情感分析** 。\n",
    "- 了解 LLaMA-2 的**提示模板** 及其在**指令微调** 中的作用。\n",
    "- 使用**少样本学习** 为 LLM 提供指示性示例。\n",
    "- 使用 LLM 为潜在的下游任务生成结构化数据。\n",
    "- 使用**系统上下文** 为模型分配角色，以便执行各种**文本生成** 任务。\n",
    "- 使用**采样** 和**温度** 来控制模型输出的随机性。\n",
    "- 使用模型启用**聊天机器人** 功能，包括保留对话历史记录的功能。\n",
    "- 创建能够讨论特定任务细节的**AI 助手** ，这些细节以数据形式提供。\n",
    "- 生成**合成数据** 。\n",
    "- 在模型的**令牌限制** 约束下工作。\n",
    "\n",
    "- Work **iteratively** to craft prompts that are **specific**, provide **cues** and give the model **\"time to think\"**.\n",
    "- Perform **sentiment analysis** on unstructured text.\n",
    "- Understand the LLaMA-2 **prompt template** and its role in **instruction fine-tuning**.\n",
    "- Provide LLMs with instructive examples using **few-shot learning**.\n",
    "- Use LLMs to generate structured data for potential use in downstream tasks.\n",
    "- Assign a role to the model using **system context** in order to perform a variety of **text generation** tasks.\n",
    "- Use **sampling** and **temperature** to control the randomness of a model's outputs.\n",
    "- Enable **chatbot** functionality with a model, including the ability to retain conversation history.\n",
    "- Create **AI assistants** capable of discussing task-specific details, provided as data.\n",
    "- Generate **synthetic data**.\n",
    "- Work within the contraints of a model's **token limit**."
   ]
  },
  {
   "cell_type": "markdown",
   "id": "2fac9efc-1d35-48de-acf4-e1bfebba8491",
   "metadata": {},
   "source": [
    "## 课程调查\n",
    "｜Course Survey"
   ]
  },
  {
   "cell_type": "markdown",
   "id": "8f98fa5c-49f8-4835-9fa0-52df9214fb2d",
   "metadata": {},
   "source": [
    "我们非常感谢您参与本课程，并希望获得您的反馈，以便我们了解您喜欢什么以及如何改进课程。请花 2 分钟时间完成[课程调查](https://www.theforage.cn/community)。"
   ]
  },
  {
   "cell_type": "markdown",
   "id": "6627ddaa-5abe-4669-a3b9-0150948a4bfb",
   "metadata": {},
   "source": [
    "## 下一步\n",
    "｜Next Steps"
   ]
  },
  {
   "cell_type": "markdown",
   "id": "b40b4bf7-15c0-4d6d-95a4-eba36b979623",
   "metadata": {},
   "source": [
    "既然您已经掌握了一套实用的提示工程（prompt engineering）技能，那么以下主题可能会让您感兴趣。"
   ]
  },
  {
   "cell_type": "markdown",
   "id": "8e597140-25ea-4344-8163-402abcbc57da",
   "metadata": {},
   "source": [
    "### LangChain"
   ]
  },
  {
   "cell_type": "markdown",
   "id": "981c23c3-1243-473d-b957-ed2b3105896f",
   "metadata": {},
   "source": [
    "“[LangChain](https://python.langchain.com/docs/get_started/introduction) 是一个用于开发由大型语言模型驱动的应用程序的框架。”LangChain 免费且开源，附带不断增长的模块和组件集合，用于处理 LLM。\n",
    "\n",
    "在本课程中，我们有意直接使用 Python 来创建辅助函数和类，并在这样做时对核心提示工程实践有了透彻的了解。但是，LangChain 可以通过为您提供样板代码来加快您未来的工作，从而加快和扩展您在本研讨会中学到的技术，并且还支持超出本课程范围的各种 LLM 用途。"
   ]
  },
  {
   "cell_type": "markdown",
   "id": "8293ab0b-2d8f-45cd-b737-74658d310389",
   "metadata": {},
   "source": [
    "### 检索增强生成 (RAG)\n",
    "｜Retrieval-Augmented Generation"
   ]
  },
  {
   "cell_type": "markdown",
   "id": "e51d44b6-6c82-45c4-9cf1-c58a91e51a78",
   "metadata": {},
   "source": [
    "在本课程中，我们遇到了基于 LLM 可以处理的令牌数量限制的 LLM 能力的一些边界。\n",
    "\n",
    "[检索增强生成](https://research.ibm.com/blog/retrieval-augmented-generation-RAG)（或 RAG）允许 LLM 从大型数据语料库（如向量数据库，例如[FAISS](https://python.langchain.com/docs/integrations/vectorstores/faiss)）中获取相关信息，并根据检索到的信息制定连贯的响应。这允许模型“查找”大量信息，而无需立即记住所有信息（例如其提示「prompt」）。\n",
    "\n",
    "RAG 在很大程度上消除了提示工程中由令牌限制对我们施加的约束，并且还提供了一种强大的机制，使模型能够了解它最初可能没有接受过训练的信息。\n",
    "\n",
    "在撰写本文时，DLI 正在开发一个关于构建 RAG 系统的综合课程。请关注 DLI 目录，以获取该课程在 2024 年初发布的信息。"
   ]
  },
  {
   "cell_type": "markdown",
   "id": "cebdb27f-ad83-4e37-b929-7ee6c9611f1d",
   "metadata": {},
   "source": [
    "### 参数高效微调 (PEFT)\n",
    "｜Parameter Efficient Fine Tuning"
   ]
  },
  {
   "cell_type": "markdown",
   "id": "5e2a2d22-4d30-4a4e-b90b-8ebfbf203b55",
   "metadata": {},
   "source": [
    "在本课程中，我们能够通过提示工程来影响模型的行为。然而，仅使用提示工程，我们对模型的控制程度是有限的。\n",
    "\n",
    "当多样本学习不足以从 LLM 中引发我们需要的行为时，无论是由于响应的格式还是关于特定领域知识的正确性，合乎逻辑的下一步是执行参数高效微调或 PEFT。\n",
    "\n",
    "PEFT 技术允许对 LLM 进行特定于任务的调整，只需很少的（数百到数千个）训练示例，并且与完整模型微调相比，计算成本降低。PEFT 是一种让模型在特定类型任务上“抢先”的方法，而无需重新训练整个模型。\n",
    "\n",
    "在撰写本文时，DLI 正在开发多个关于 PEFT 技术的综合课程。请关注 DLI 目录，以获取这些材料在 2023 年底发布的信息。"
   ]
  },
  {
   "cell_type": "markdown",
   "id": "d25d886d",
   "metadata": {},
   "source": [
    "# [5LOI DEEP LEARNING INSTITUE](https://5loi.com)"
   ]
  },
  {
   "cell_type": "markdown",
   "id": "679cf1f1",
   "metadata": {},
   "source": [
    "### [AI COMMUNITY](https://www.theforage.cn/community)\n",
    "\n",
    "### [5LOI](https://5loi.com/about_loi)"
   ]
  },
  {
   "cell_type": "markdown",
   "id": "9452db2d-0bbc-4a10-af7e-02c8cc4c3a2b",
   "metadata": {},
   "source": [
    "![DLI Header](images/DLI_Header.png)"
   ]
  }
 ],
 "metadata": {
  "kernelspec": {
   "display_name": "Python 3 (ipykernel)",
   "language": "python",
   "name": "python3"
  },
  "language_info": {
   "codemirror_mode": {
    "name": "ipython",
    "version": 3
   },
   "file_extension": ".py",
   "mimetype": "text/x-python",
   "name": "python",
   "nbconvert_exporter": "python",
   "pygments_lexer": "ipython3",
   "version": "3.8.10"
  }
 },
 "nbformat": 4,
 "nbformat_minor": 5
}
