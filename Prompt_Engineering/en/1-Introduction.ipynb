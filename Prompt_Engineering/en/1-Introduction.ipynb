{
 "cells": [
  {
   "cell_type": "markdown",
   "id": "791bd59f-2b8b-4484-b400-7a80d64b30d8",
   "metadata": {},
   "source": [
    "![DLI Header](images/DLI_Header.png)"
   ]
  },
  {
   "cell_type": "markdown",
   "id": "c170fa5b-93f0-49e2-a330-26fbb676a345",
   "metadata": {
    "tags": []
   },
   "source": [
    "# Prompt Engineering with LLaMA-2"
   ]
  },
  {
   "cell_type": "markdown",
   "id": "0eda2376-6e56-4546-826a-617533f589ce",
   "metadata": {},
   "source": [
    "Welcome to *Prompt Engineering with LLaMA-2*!\n",
    "\n",
    "Prompt engineering drastically increases the capabilities of large language models (LLMs) with little effort. With a robust prompt engineering toolkit at your disposal you can customize LLM behavior to perform a diverse set of tasks and get more out of LLMs regardless of their size.\n",
    "\n",
    "In this course, you will interact with and prompt engineer LLaMA-2 models to analyze documents, generate text, and be an AI assistant. By the time you complete this course you will be able to:\n",
    "\n",
    "- Iteratively write precise prompts to bring LLM behavior in line with your intentions.\n",
    "- Leverage editing the powerful system message.\n",
    "- Guide LLMs with one-to-many shot prompt engineering.\n",
    "- Incorporate prompt-response history into the LLM context to create chatbot behavior."
   ]
  },
  {
   "cell_type": "markdown",
   "id": "7a3e21d5-1ccc-4762-859a-e0f4101426bb",
   "metadata": {},
   "source": [
    "## Prerequisites"
   ]
  },
  {
   "cell_type": "markdown",
   "id": "639be597-0e46-4409-a755-3c54d826c583",
   "metadata": {},
   "source": [
    "This course is primarily intended for Python developers who have some familiarity interacting with large language models, such as by using ChatGPT, but have not yet worked extensively with LLMs in a programmatic way.\n",
    "\n",
    "You'll have a slight advantage if you're familiar with the underpinnings of large language models, but this is not a hard requirement for you to be able to get a lot out of this course.\n",
    "\n",
    "In this course we aim to be practical, and prioritize development over theory. We delve into concepts and theory when required, with as light a touch as possible."
   ]
  },
  {
   "cell_type": "markdown",
   "id": "6674f5c0-94b5-4fae-97a2-3cad3ba896e0",
   "metadata": {},
   "source": [
    "## Course Structure"
   ]
  },
  {
   "cell_type": "markdown",
   "id": "d7512dcd-c7f0-4d2f-b783-bfda2a1a5892",
   "metadata": {},
   "source": [
    "This course consists of several interactive notebooks which teach relevant techniques and then challenge you with additional exercises to increase your skills.\n",
    "\n",
    "1. **Introduction**: This notebook.\n",
    "1. **Iterative Prompt Development**: In this notebook we iterate on a set of simple prompts, familiarizing ourselves with the transformers pipeline and LLaMA-2 models we will be using throughout the course. We will learn the importance of **precise** prompts.\n",
    "1. **Star Bikes Product Review Analyst**: In this notebook you'll build an AI-powered document analyst for a fictitious bicycle company and learn how to perform **few-shot learning**.\n",
    "1. **Star Bikes Marketing Copy Generator**: In this notebook you will build an AI-powered marketing copy writer, capable to perform a number of generative tasks and learn how to provide and leverage **system context**.\n",
    "1. **Random Personas**: In this notebook you will create unique AI personalities by learning to enable **sampling** and control the **temperature** of the model's generation.\n",
    "1. **Chatbot**: In this notebook you will begin to create chatbot functionality, creating an chatbot capable of retaining conversation history.\n",
    "1. **Star Bikes AI Assistant**: In this notebook you'll make an AI assistant to help customers make the best decision about getting a new bike from Star Bikes, and will learn about working with a model's **token limits**.\n",
    "1. **Conclusion**: In this notebook you will review everthing you learned in the course, and get some guidance about logical next steps for your learning."
   ]
  },
  {
   "cell_type": "markdown",
   "id": "ef95b26c-1b81-452a-87be-f00fcac095d8",
   "metadata": {},
   "source": [
    "![DLI Header](images/DLI_Header.png)"
   ]
  }
 ],
 "metadata": {
  "kernelspec": {
   "display_name": "Python 3 (ipykernel)",
   "language": "python",
   "name": "python3"
  },
  "language_info": {
   "codemirror_mode": {
    "name": "ipython",
    "version": 3
   },
   "file_extension": ".py",
   "mimetype": "text/x-python",
   "name": "python",
   "nbconvert_exporter": "python",
   "pygments_lexer": "ipython3",
   "version": "3.8.10"
  }
 },
 "nbformat": 4,
 "nbformat_minor": 5
}
